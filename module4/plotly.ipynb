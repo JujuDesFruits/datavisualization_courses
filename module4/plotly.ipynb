{
 "cells": [
  {
   "cell_type": "code",
   "execution_count": 3,
   "metadata": {},
   "outputs": [],
   "source": [
    "import pandas as pd\n",
    "import numpy as np\n",
    "import plotly.express as px\n",
    "import plotly.graph_objects as go"
   ]
  },
  {
   "cell_type": "code",
   "execution_count": 6,
   "metadata": {},
   "outputs": [
    {
     "data": {
      "text/html": [
       "<div>\n",
       "<style scoped>\n",
       "    .dataframe tbody tr th:only-of-type {\n",
       "        vertical-align: middle;\n",
       "    }\n",
       "\n",
       "    .dataframe tbody tr th {\n",
       "        vertical-align: top;\n",
       "    }\n",
       "\n",
       "    .dataframe thead th {\n",
       "        text-align: right;\n",
       "    }\n",
       "</style>\n",
       "<table border=\"1\" class=\"dataframe\">\n",
       "  <thead>\n",
       "    <tr style=\"text-align: right;\">\n",
       "      <th></th>\n",
       "      <th>Unnamed: 0</th>\n",
       "      <th>Year</th>\n",
       "      <th>Quarter</th>\n",
       "      <th>Month</th>\n",
       "      <th>DayofMonth</th>\n",
       "      <th>DayOfWeek</th>\n",
       "      <th>FlightDate</th>\n",
       "      <th>Reporting_Airline</th>\n",
       "      <th>DOT_ID_Reporting_Airline</th>\n",
       "      <th>IATA_CODE_Reporting_Airline</th>\n",
       "      <th>...</th>\n",
       "      <th>Div4WheelsOff</th>\n",
       "      <th>Div4TailNum</th>\n",
       "      <th>Div5Airport</th>\n",
       "      <th>Div5AirportID</th>\n",
       "      <th>Div5AirportSeqID</th>\n",
       "      <th>Div5WheelsOn</th>\n",
       "      <th>Div5TotalGTime</th>\n",
       "      <th>Div5LongestGTime</th>\n",
       "      <th>Div5WheelsOff</th>\n",
       "      <th>Div5TailNum</th>\n",
       "    </tr>\n",
       "  </thead>\n",
       "  <tbody>\n",
       "    <tr>\n",
       "      <th>0</th>\n",
       "      <td>1295781</td>\n",
       "      <td>1998</td>\n",
       "      <td>2</td>\n",
       "      <td>4</td>\n",
       "      <td>2</td>\n",
       "      <td>4</td>\n",
       "      <td>1998-04-02</td>\n",
       "      <td>AS</td>\n",
       "      <td>19930</td>\n",
       "      <td>AS</td>\n",
       "      <td>...</td>\n",
       "      <td>NaN</td>\n",
       "      <td>NaN</td>\n",
       "      <td>NaN</td>\n",
       "      <td>NaN</td>\n",
       "      <td>NaN</td>\n",
       "      <td>NaN</td>\n",
       "      <td>NaN</td>\n",
       "      <td>NaN</td>\n",
       "      <td>NaN</td>\n",
       "      <td>NaN</td>\n",
       "    </tr>\n",
       "    <tr>\n",
       "      <th>1</th>\n",
       "      <td>1125375</td>\n",
       "      <td>2013</td>\n",
       "      <td>2</td>\n",
       "      <td>5</td>\n",
       "      <td>13</td>\n",
       "      <td>1</td>\n",
       "      <td>2013-05-13</td>\n",
       "      <td>EV</td>\n",
       "      <td>20366</td>\n",
       "      <td>EV</td>\n",
       "      <td>...</td>\n",
       "      <td>NaN</td>\n",
       "      <td>NaN</td>\n",
       "      <td>NaN</td>\n",
       "      <td>NaN</td>\n",
       "      <td>NaN</td>\n",
       "      <td>NaN</td>\n",
       "      <td>NaN</td>\n",
       "      <td>NaN</td>\n",
       "      <td>NaN</td>\n",
       "      <td>NaN</td>\n",
       "    </tr>\n",
       "    <tr>\n",
       "      <th>2</th>\n",
       "      <td>118824</td>\n",
       "      <td>1993</td>\n",
       "      <td>3</td>\n",
       "      <td>9</td>\n",
       "      <td>25</td>\n",
       "      <td>6</td>\n",
       "      <td>1993-09-25</td>\n",
       "      <td>UA</td>\n",
       "      <td>19977</td>\n",
       "      <td>UA</td>\n",
       "      <td>...</td>\n",
       "      <td>NaN</td>\n",
       "      <td>NaN</td>\n",
       "      <td>NaN</td>\n",
       "      <td>NaN</td>\n",
       "      <td>NaN</td>\n",
       "      <td>NaN</td>\n",
       "      <td>NaN</td>\n",
       "      <td>NaN</td>\n",
       "      <td>NaN</td>\n",
       "      <td>NaN</td>\n",
       "    </tr>\n",
       "    <tr>\n",
       "      <th>3</th>\n",
       "      <td>634825</td>\n",
       "      <td>1994</td>\n",
       "      <td>4</td>\n",
       "      <td>11</td>\n",
       "      <td>12</td>\n",
       "      <td>6</td>\n",
       "      <td>1994-11-12</td>\n",
       "      <td>HP</td>\n",
       "      <td>19991</td>\n",
       "      <td>HP</td>\n",
       "      <td>...</td>\n",
       "      <td>NaN</td>\n",
       "      <td>NaN</td>\n",
       "      <td>NaN</td>\n",
       "      <td>NaN</td>\n",
       "      <td>NaN</td>\n",
       "      <td>NaN</td>\n",
       "      <td>NaN</td>\n",
       "      <td>NaN</td>\n",
       "      <td>NaN</td>\n",
       "      <td>NaN</td>\n",
       "    </tr>\n",
       "    <tr>\n",
       "      <th>4</th>\n",
       "      <td>1888125</td>\n",
       "      <td>2017</td>\n",
       "      <td>3</td>\n",
       "      <td>8</td>\n",
       "      <td>17</td>\n",
       "      <td>4</td>\n",
       "      <td>2017-08-17</td>\n",
       "      <td>UA</td>\n",
       "      <td>19977</td>\n",
       "      <td>UA</td>\n",
       "      <td>...</td>\n",
       "      <td>NaN</td>\n",
       "      <td>NaN</td>\n",
       "      <td>NaN</td>\n",
       "      <td>NaN</td>\n",
       "      <td>NaN</td>\n",
       "      <td>NaN</td>\n",
       "      <td>NaN</td>\n",
       "      <td>NaN</td>\n",
       "      <td>NaN</td>\n",
       "      <td>NaN</td>\n",
       "    </tr>\n",
       "  </tbody>\n",
       "</table>\n",
       "<p>5 rows × 110 columns</p>\n",
       "</div>"
      ],
      "text/plain": [
       "   Unnamed: 0  Year  Quarter  Month  DayofMonth  DayOfWeek  FlightDate  \\\n",
       "0     1295781  1998        2      4           2          4  1998-04-02   \n",
       "1     1125375  2013        2      5          13          1  2013-05-13   \n",
       "2      118824  1993        3      9          25          6  1993-09-25   \n",
       "3      634825  1994        4     11          12          6  1994-11-12   \n",
       "4     1888125  2017        3      8          17          4  2017-08-17   \n",
       "\n",
       "  Reporting_Airline  DOT_ID_Reporting_Airline IATA_CODE_Reporting_Airline  \\\n",
       "0                AS                     19930                          AS   \n",
       "1                EV                     20366                          EV   \n",
       "2                UA                     19977                          UA   \n",
       "3                HP                     19991                          HP   \n",
       "4                UA                     19977                          UA   \n",
       "\n",
       "   ... Div4WheelsOff  Div4TailNum  Div5Airport  Div5AirportID  \\\n",
       "0  ...           NaN          NaN          NaN            NaN   \n",
       "1  ...           NaN          NaN          NaN            NaN   \n",
       "2  ...           NaN          NaN          NaN            NaN   \n",
       "3  ...           NaN          NaN          NaN            NaN   \n",
       "4  ...           NaN          NaN          NaN            NaN   \n",
       "\n",
       "   Div5AirportSeqID Div5WheelsOn Div5TotalGTime Div5LongestGTime  \\\n",
       "0               NaN          NaN            NaN              NaN   \n",
       "1               NaN          NaN            NaN              NaN   \n",
       "2               NaN          NaN            NaN              NaN   \n",
       "3               NaN          NaN            NaN              NaN   \n",
       "4               NaN          NaN            NaN              NaN   \n",
       "\n",
       "   Div5WheelsOff Div5TailNum  \n",
       "0            NaN         NaN  \n",
       "1            NaN         NaN  \n",
       "2            NaN         NaN  \n",
       "3            NaN         NaN  \n",
       "4            NaN         NaN  \n",
       "\n",
       "[5 rows x 110 columns]"
      ]
     },
     "execution_count": 6,
     "metadata": {},
     "output_type": "execute_result"
    }
   ],
   "source": [
    "airline_data = pd.read_csv('https://cf-courses-data.s3.us.cloud-object-storage.appdomain.cloud/IBMDeveloperSkillsNetwork-DV0101EN-SkillsNetwork/Data%20Files/airline_data.csv')\n",
    "airline_data.head()"
   ]
  },
  {
   "cell_type": "code",
   "execution_count": 12,
   "metadata": {},
   "outputs": [
    {
     "name": "stdout",
     "output_type": "stream",
     "text": [
      "['Unnamed: 0', 'Year', 'Quarter', 'Month', 'DayofMonth', 'DayOfWeek', 'FlightDate', 'Reporting_Airline', 'DOT_ID_Reporting_Airline', 'IATA_CODE_Reporting_Airline', 'Tail_Number', 'Flight_Number_Reporting_Airline', 'OriginAirportID', 'OriginAirportSeqID', 'OriginCityMarketID', 'Origin', 'OriginCityName', 'OriginState', 'OriginStateFips', 'OriginStateName', 'OriginWac', 'DestAirportID', 'DestAirportSeqID', 'DestCityMarketID', 'Dest', 'DestCityName', 'DestState', 'DestStateFips', 'DestStateName', 'DestWac', 'CRSDepTime', 'DepTime', 'DepDelay', 'DepDelayMinutes', 'DepDel15', 'DepartureDelayGroups', 'DepTimeBlk', 'TaxiOut', 'WheelsOff', 'WheelsOn', 'TaxiIn', 'CRSArrTime', 'ArrTime', 'ArrDelay', 'ArrDelayMinutes', 'ArrDel15', 'ArrivalDelayGroups', 'ArrTimeBlk', 'Cancelled', 'CancellationCode', 'Diverted', 'CRSElapsedTime', 'ActualElapsedTime', 'AirTime', 'Flights', 'Distance', 'DistanceGroup', 'CarrierDelay', 'WeatherDelay', 'NASDelay', 'SecurityDelay', 'LateAircraftDelay', 'FirstDepTime', 'TotalAddGTime', 'LongestAddGTime', 'DivAirportLandings', 'DivReachedDest', 'DivActualElapsedTime', 'DivArrDelay', 'DivDistance', 'Div1Airport', 'Div1AirportID', 'Div1AirportSeqID', 'Div1WheelsOn', 'Div1TotalGTime', 'Div1LongestGTime', 'Div1WheelsOff', 'Div1TailNum', 'Div2Airport', 'Div2AirportID', 'Div2AirportSeqID', 'Div2WheelsOn', 'Div2TotalGTime', 'Div2LongestGTime', 'Div2WheelsOff', 'Div2TailNum', 'Div3Airport', 'Div3AirportID', 'Div3AirportSeqID', 'Div3WheelsOn', 'Div3TotalGTime', 'Div3LongestGTime', 'Div3WheelsOff', 'Div3TailNum', 'Div4Airport', 'Div4AirportID', 'Div4AirportSeqID', 'Div4WheelsOn', 'Div4TotalGTime', 'Div4LongestGTime', 'Div4WheelsOff', 'Div4TailNum', 'Div5Airport', 'Div5AirportID', 'Div5AirportSeqID', 'Div5WheelsOn', 'Div5TotalGTime', 'Div5LongestGTime', 'Div5WheelsOff', 'Div5TailNum']\n"
     ]
    }
   ],
   "source": [
    "print(airline_data.columns.to_list())"
   ]
  },
  {
   "cell_type": "code",
   "execution_count": 7,
   "metadata": {},
   "outputs": [],
   "source": [
    "data=airline_data.sample(n=500, random_state=42)"
   ]
  },
  {
   "cell_type": "markdown",
   "metadata": {},
   "source": [
    "Scatter plot"
   ]
  },
  {
   "cell_type": "code",
   "execution_count": 13,
   "metadata": {},
   "outputs": [
    {
     "data": {
      "application/vnd.plotly.v1+json": {
       "config": {
        "plotlyServerURL": "https://plot.ly"
       },
       "data": [
        {
         "marker": {
          "color": "red"
         },
         "mode": "markers",
         "type": "scatter",
         "x": {
          "bdata": "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",
          "dtype": "f8"
         },
         "y": {
          "bdata": "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",
          "dtype": "f8"
         }
        }
       ],
       "layout": {
        "template": {
         "data": {
          "bar": [
           {
            "error_x": {
             "color": "#2a3f5f"
            },
            "error_y": {
             "color": "#2a3f5f"
            },
            "marker": {
             "line": {
              "color": "#E5ECF6",
              "width": 0.5
             },
             "pattern": {
              "fillmode": "overlay",
              "size": 10,
              "solidity": 0.2
             }
            },
            "type": "bar"
           }
          ],
          "barpolar": [
           {
            "marker": {
             "line": {
              "color": "#E5ECF6",
              "width": 0.5
             },
             "pattern": {
              "fillmode": "overlay",
              "size": 10,
              "solidity": 0.2
             }
            },
            "type": "barpolar"
           }
          ],
          "carpet": [
           {
            "aaxis": {
             "endlinecolor": "#2a3f5f",
             "gridcolor": "white",
             "linecolor": "white",
             "minorgridcolor": "white",
             "startlinecolor": "#2a3f5f"
            },
            "baxis": {
             "endlinecolor": "#2a3f5f",
             "gridcolor": "white",
             "linecolor": "white",
             "minorgridcolor": "white",
             "startlinecolor": "#2a3f5f"
            },
            "type": "carpet"
           }
          ],
          "choropleth": [
           {
            "colorbar": {
             "outlinewidth": 0,
             "ticks": ""
            },
            "type": "choropleth"
           }
          ],
          "contour": [
           {
            "colorbar": {
             "outlinewidth": 0,
             "ticks": ""
            },
            "colorscale": [
             [
              0,
              "#0d0887"
             ],
             [
              0.1111111111111111,
              "#46039f"
             ],
             [
              0.2222222222222222,
              "#7201a8"
             ],
             [
              0.3333333333333333,
              "#9c179e"
             ],
             [
              0.4444444444444444,
              "#bd3786"
             ],
             [
              0.5555555555555556,
              "#d8576b"
             ],
             [
              0.6666666666666666,
              "#ed7953"
             ],
             [
              0.7777777777777778,
              "#fb9f3a"
             ],
             [
              0.8888888888888888,
              "#fdca26"
             ],
             [
              1,
              "#f0f921"
             ]
            ],
            "type": "contour"
           }
          ],
          "contourcarpet": [
           {
            "colorbar": {
             "outlinewidth": 0,
             "ticks": ""
            },
            "type": "contourcarpet"
           }
          ],
          "heatmap": [
           {
            "colorbar": {
             "outlinewidth": 0,
             "ticks": ""
            },
            "colorscale": [
             [
              0,
              "#0d0887"
             ],
             [
              0.1111111111111111,
              "#46039f"
             ],
             [
              0.2222222222222222,
              "#7201a8"
             ],
             [
              0.3333333333333333,
              "#9c179e"
             ],
             [
              0.4444444444444444,
              "#bd3786"
             ],
             [
              0.5555555555555556,
              "#d8576b"
             ],
             [
              0.6666666666666666,
              "#ed7953"
             ],
             [
              0.7777777777777778,
              "#fb9f3a"
             ],
             [
              0.8888888888888888,
              "#fdca26"
             ],
             [
              1,
              "#f0f921"
             ]
            ],
            "type": "heatmap"
           }
          ],
          "histogram": [
           {
            "marker": {
             "pattern": {
              "fillmode": "overlay",
              "size": 10,
              "solidity": 0.2
             }
            },
            "type": "histogram"
           }
          ],
          "histogram2d": [
           {
            "colorbar": {
             "outlinewidth": 0,
             "ticks": ""
            },
            "colorscale": [
             [
              0,
              "#0d0887"
             ],
             [
              0.1111111111111111,
              "#46039f"
             ],
             [
              0.2222222222222222,
              "#7201a8"
             ],
             [
              0.3333333333333333,
              "#9c179e"
             ],
             [
              0.4444444444444444,
              "#bd3786"
             ],
             [
              0.5555555555555556,
              "#d8576b"
             ],
             [
              0.6666666666666666,
              "#ed7953"
             ],
             [
              0.7777777777777778,
              "#fb9f3a"
             ],
             [
              0.8888888888888888,
              "#fdca26"
             ],
             [
              1,
              "#f0f921"
             ]
            ],
            "type": "histogram2d"
           }
          ],
          "histogram2dcontour": [
           {
            "colorbar": {
             "outlinewidth": 0,
             "ticks": ""
            },
            "colorscale": [
             [
              0,
              "#0d0887"
             ],
             [
              0.1111111111111111,
              "#46039f"
             ],
             [
              0.2222222222222222,
              "#7201a8"
             ],
             [
              0.3333333333333333,
              "#9c179e"
             ],
             [
              0.4444444444444444,
              "#bd3786"
             ],
             [
              0.5555555555555556,
              "#d8576b"
             ],
             [
              0.6666666666666666,
              "#ed7953"
             ],
             [
              0.7777777777777778,
              "#fb9f3a"
             ],
             [
              0.8888888888888888,
              "#fdca26"
             ],
             [
              1,
              "#f0f921"
             ]
            ],
            "type": "histogram2dcontour"
           }
          ],
          "mesh3d": [
           {
            "colorbar": {
             "outlinewidth": 0,
             "ticks": ""
            },
            "type": "mesh3d"
           }
          ],
          "parcoords": [
           {
            "line": {
             "colorbar": {
              "outlinewidth": 0,
              "ticks": ""
             }
            },
            "type": "parcoords"
           }
          ],
          "pie": [
           {
            "automargin": true,
            "type": "pie"
           }
          ],
          "scatter": [
           {
            "fillpattern": {
             "fillmode": "overlay",
             "size": 10,
             "solidity": 0.2
            },
            "type": "scatter"
           }
          ],
          "scatter3d": [
           {
            "line": {
             "colorbar": {
              "outlinewidth": 0,
              "ticks": ""
             }
            },
            "marker": {
             "colorbar": {
              "outlinewidth": 0,
              "ticks": ""
             }
            },
            "type": "scatter3d"
           }
          ],
          "scattercarpet": [
           {
            "marker": {
             "colorbar": {
              "outlinewidth": 0,
              "ticks": ""
             }
            },
            "type": "scattercarpet"
           }
          ],
          "scattergeo": [
           {
            "marker": {
             "colorbar": {
              "outlinewidth": 0,
              "ticks": ""
             }
            },
            "type": "scattergeo"
           }
          ],
          "scattergl": [
           {
            "marker": {
             "colorbar": {
              "outlinewidth": 0,
              "ticks": ""
             }
            },
            "type": "scattergl"
           }
          ],
          "scattermap": [
           {
            "marker": {
             "colorbar": {
              "outlinewidth": 0,
              "ticks": ""
             }
            },
            "type": "scattermap"
           }
          ],
          "scattermapbox": [
           {
            "marker": {
             "colorbar": {
              "outlinewidth": 0,
              "ticks": ""
             }
            },
            "type": "scattermapbox"
           }
          ],
          "scatterpolar": [
           {
            "marker": {
             "colorbar": {
              "outlinewidth": 0,
              "ticks": ""
             }
            },
            "type": "scatterpolar"
           }
          ],
          "scatterpolargl": [
           {
            "marker": {
             "colorbar": {
              "outlinewidth": 0,
              "ticks": ""
             }
            },
            "type": "scatterpolargl"
           }
          ],
          "scatterternary": [
           {
            "marker": {
             "colorbar": {
              "outlinewidth": 0,
              "ticks": ""
             }
            },
            "type": "scatterternary"
           }
          ],
          "surface": [
           {
            "colorbar": {
             "outlinewidth": 0,
             "ticks": ""
            },
            "colorscale": [
             [
              0,
              "#0d0887"
             ],
             [
              0.1111111111111111,
              "#46039f"
             ],
             [
              0.2222222222222222,
              "#7201a8"
             ],
             [
              0.3333333333333333,
              "#9c179e"
             ],
             [
              0.4444444444444444,
              "#bd3786"
             ],
             [
              0.5555555555555556,
              "#d8576b"
             ],
             [
              0.6666666666666666,
              "#ed7953"
             ],
             [
              0.7777777777777778,
              "#fb9f3a"
             ],
             [
              0.8888888888888888,
              "#fdca26"
             ],
             [
              1,
              "#f0f921"
             ]
            ],
            "type": "surface"
           }
          ],
          "table": [
           {
            "cells": {
             "fill": {
              "color": "#EBF0F8"
             },
             "line": {
              "color": "white"
             }
            },
            "header": {
             "fill": {
              "color": "#C8D4E3"
             },
             "line": {
              "color": "white"
             }
            },
            "type": "table"
           }
          ]
         },
         "layout": {
          "annotationdefaults": {
           "arrowcolor": "#2a3f5f",
           "arrowhead": 0,
           "arrowwidth": 1
          },
          "autotypenumbers": "strict",
          "coloraxis": {
           "colorbar": {
            "outlinewidth": 0,
            "ticks": ""
           }
          },
          "colorscale": {
           "diverging": [
            [
             0,
             "#8e0152"
            ],
            [
             0.1,
             "#c51b7d"
            ],
            [
             0.2,
             "#de77ae"
            ],
            [
             0.3,
             "#f1b6da"
            ],
            [
             0.4,
             "#fde0ef"
            ],
            [
             0.5,
             "#f7f7f7"
            ],
            [
             0.6,
             "#e6f5d0"
            ],
            [
             0.7,
             "#b8e186"
            ],
            [
             0.8,
             "#7fbc41"
            ],
            [
             0.9,
             "#4d9221"
            ],
            [
             1,
             "#276419"
            ]
           ],
           "sequential": [
            [
             0,
             "#0d0887"
            ],
            [
             0.1111111111111111,
             "#46039f"
            ],
            [
             0.2222222222222222,
             "#7201a8"
            ],
            [
             0.3333333333333333,
             "#9c179e"
            ],
            [
             0.4444444444444444,
             "#bd3786"
            ],
            [
             0.5555555555555556,
             "#d8576b"
            ],
            [
             0.6666666666666666,
             "#ed7953"
            ],
            [
             0.7777777777777778,
             "#fb9f3a"
            ],
            [
             0.8888888888888888,
             "#fdca26"
            ],
            [
             1,
             "#f0f921"
            ]
           ],
           "sequentialminus": [
            [
             0,
             "#0d0887"
            ],
            [
             0.1111111111111111,
             "#46039f"
            ],
            [
             0.2222222222222222,
             "#7201a8"
            ],
            [
             0.3333333333333333,
             "#9c179e"
            ],
            [
             0.4444444444444444,
             "#bd3786"
            ],
            [
             0.5555555555555556,
             "#d8576b"
            ],
            [
             0.6666666666666666,
             "#ed7953"
            ],
            [
             0.7777777777777778,
             "#fb9f3a"
            ],
            [
             0.8888888888888888,
             "#fdca26"
            ],
            [
             1,
             "#f0f921"
            ]
           ]
          },
          "colorway": [
           "#636efa",
           "#EF553B",
           "#00cc96",
           "#ab63fa",
           "#FFA15A",
           "#19d3f3",
           "#FF6692",
           "#B6E880",
           "#FF97FF",
           "#FECB52"
          ],
          "font": {
           "color": "#2a3f5f"
          },
          "geo": {
           "bgcolor": "white",
           "lakecolor": "white",
           "landcolor": "#E5ECF6",
           "showlakes": true,
           "showland": true,
           "subunitcolor": "white"
          },
          "hoverlabel": {
           "align": "left"
          },
          "hovermode": "closest",
          "mapbox": {
           "style": "light"
          },
          "paper_bgcolor": "white",
          "plot_bgcolor": "#E5ECF6",
          "polar": {
           "angularaxis": {
            "gridcolor": "white",
            "linecolor": "white",
            "ticks": ""
           },
           "bgcolor": "#E5ECF6",
           "radialaxis": {
            "gridcolor": "white",
            "linecolor": "white",
            "ticks": ""
           }
          },
          "scene": {
           "xaxis": {
            "backgroundcolor": "#E5ECF6",
            "gridcolor": "white",
            "gridwidth": 2,
            "linecolor": "white",
            "showbackground": true,
            "ticks": "",
            "zerolinecolor": "white"
           },
           "yaxis": {
            "backgroundcolor": "#E5ECF6",
            "gridcolor": "white",
            "gridwidth": 2,
            "linecolor": "white",
            "showbackground": true,
            "ticks": "",
            "zerolinecolor": "white"
           },
           "zaxis": {
            "backgroundcolor": "#E5ECF6",
            "gridcolor": "white",
            "gridwidth": 2,
            "linecolor": "white",
            "showbackground": true,
            "ticks": "",
            "zerolinecolor": "white"
           }
          },
          "shapedefaults": {
           "line": {
            "color": "#2a3f5f"
           }
          },
          "ternary": {
           "aaxis": {
            "gridcolor": "white",
            "linecolor": "white",
            "ticks": ""
           },
           "baxis": {
            "gridcolor": "white",
            "linecolor": "white",
            "ticks": ""
           },
           "bgcolor": "#E5ECF6",
           "caxis": {
            "gridcolor": "white",
            "linecolor": "white",
            "ticks": ""
           }
          },
          "title": {
           "x": 0.05
          },
          "xaxis": {
           "automargin": true,
           "gridcolor": "white",
           "linecolor": "white",
           "ticks": "",
           "title": {
            "standoff": 15
           },
           "zerolinecolor": "white",
           "zerolinewidth": 2
          },
          "yaxis": {
           "automargin": true,
           "gridcolor": "white",
           "linecolor": "white",
           "ticks": "",
           "title": {
            "standoff": 15
           },
           "zerolinecolor": "white",
           "zerolinewidth": 2
          }
         }
        },
        "title": {
         "text": "Distance vs DepTime"
        },
        "xaxis": {
         "title": {
          "text": "Distance"
         }
        },
        "yaxis": {
         "title": {
          "text": "DepTime"
         }
        }
       }
      }
     },
     "metadata": {},
     "output_type": "display_data"
    }
   ],
   "source": [
    "fig=go.Figure()\n",
    "fig.add_trace(go.Scatter(x=data['Distance'], y=data['DepTime'], mode='markers', marker=dict(color='red')))\n",
    "fig.update_layout(title='Distance vs DepTime', xaxis_title='Distance', yaxis_title='DepTime')\n",
    "fig.show()"
   ]
  },
  {
   "cell_type": "markdown",
   "metadata": {},
   "source": [
    "Line plot"
   ]
  },
  {
   "cell_type": "code",
   "execution_count": 20,
   "metadata": {},
   "outputs": [
    {
     "data": {
      "application/vnd.plotly.v1+json": {
       "config": {
        "plotlyServerURL": "https://plot.ly"
       },
       "data": [
        {
         "marker": {
          "color": "green"
         },
         "mode": "lines",
         "type": "scatter",
         "x": {
          "bdata": "AQIDBAUGBwgJCgsM",
          "dtype": "i1"
         },
         "y": {
          "bdata": "d8QdcUfcAUAAAAAAAIAFQMprKK+hvCVAq6qqqqrqGEB3xB1xR9zRvyz3NMJyTzFAsAVbsAVbFED6GJyPwfkIQJgin3WDKSJAMzMzMzMz8z/NzMzMzMwPwNFeQnsJ7QlA",
          "dtype": "f8"
         }
        }
       ],
       "layout": {
        "template": {
         "data": {
          "bar": [
           {
            "error_x": {
             "color": "#2a3f5f"
            },
            "error_y": {
             "color": "#2a3f5f"
            },
            "marker": {
             "line": {
              "color": "#E5ECF6",
              "width": 0.5
             },
             "pattern": {
              "fillmode": "overlay",
              "size": 10,
              "solidity": 0.2
             }
            },
            "type": "bar"
           }
          ],
          "barpolar": [
           {
            "marker": {
             "line": {
              "color": "#E5ECF6",
              "width": 0.5
             },
             "pattern": {
              "fillmode": "overlay",
              "size": 10,
              "solidity": 0.2
             }
            },
            "type": "barpolar"
           }
          ],
          "carpet": [
           {
            "aaxis": {
             "endlinecolor": "#2a3f5f",
             "gridcolor": "white",
             "linecolor": "white",
             "minorgridcolor": "white",
             "startlinecolor": "#2a3f5f"
            },
            "baxis": {
             "endlinecolor": "#2a3f5f",
             "gridcolor": "white",
             "linecolor": "white",
             "minorgridcolor": "white",
             "startlinecolor": "#2a3f5f"
            },
            "type": "carpet"
           }
          ],
          "choropleth": [
           {
            "colorbar": {
             "outlinewidth": 0,
             "ticks": ""
            },
            "type": "choropleth"
           }
          ],
          "contour": [
           {
            "colorbar": {
             "outlinewidth": 0,
             "ticks": ""
            },
            "colorscale": [
             [
              0,
              "#0d0887"
             ],
             [
              0.1111111111111111,
              "#46039f"
             ],
             [
              0.2222222222222222,
              "#7201a8"
             ],
             [
              0.3333333333333333,
              "#9c179e"
             ],
             [
              0.4444444444444444,
              "#bd3786"
             ],
             [
              0.5555555555555556,
              "#d8576b"
             ],
             [
              0.6666666666666666,
              "#ed7953"
             ],
             [
              0.7777777777777778,
              "#fb9f3a"
             ],
             [
              0.8888888888888888,
              "#fdca26"
             ],
             [
              1,
              "#f0f921"
             ]
            ],
            "type": "contour"
           }
          ],
          "contourcarpet": [
           {
            "colorbar": {
             "outlinewidth": 0,
             "ticks": ""
            },
            "type": "contourcarpet"
           }
          ],
          "heatmap": [
           {
            "colorbar": {
             "outlinewidth": 0,
             "ticks": ""
            },
            "colorscale": [
             [
              0,
              "#0d0887"
             ],
             [
              0.1111111111111111,
              "#46039f"
             ],
             [
              0.2222222222222222,
              "#7201a8"
             ],
             [
              0.3333333333333333,
              "#9c179e"
             ],
             [
              0.4444444444444444,
              "#bd3786"
             ],
             [
              0.5555555555555556,
              "#d8576b"
             ],
             [
              0.6666666666666666,
              "#ed7953"
             ],
             [
              0.7777777777777778,
              "#fb9f3a"
             ],
             [
              0.8888888888888888,
              "#fdca26"
             ],
             [
              1,
              "#f0f921"
             ]
            ],
            "type": "heatmap"
           }
          ],
          "histogram": [
           {
            "marker": {
             "pattern": {
              "fillmode": "overlay",
              "size": 10,
              "solidity": 0.2
             }
            },
            "type": "histogram"
           }
          ],
          "histogram2d": [
           {
            "colorbar": {
             "outlinewidth": 0,
             "ticks": ""
            },
            "colorscale": [
             [
              0,
              "#0d0887"
             ],
             [
              0.1111111111111111,
              "#46039f"
             ],
             [
              0.2222222222222222,
              "#7201a8"
             ],
             [
              0.3333333333333333,
              "#9c179e"
             ],
             [
              0.4444444444444444,
              "#bd3786"
             ],
             [
              0.5555555555555556,
              "#d8576b"
             ],
             [
              0.6666666666666666,
              "#ed7953"
             ],
             [
              0.7777777777777778,
              "#fb9f3a"
             ],
             [
              0.8888888888888888,
              "#fdca26"
             ],
             [
              1,
              "#f0f921"
             ]
            ],
            "type": "histogram2d"
           }
          ],
          "histogram2dcontour": [
           {
            "colorbar": {
             "outlinewidth": 0,
             "ticks": ""
            },
            "colorscale": [
             [
              0,
              "#0d0887"
             ],
             [
              0.1111111111111111,
              "#46039f"
             ],
             [
              0.2222222222222222,
              "#7201a8"
             ],
             [
              0.3333333333333333,
              "#9c179e"
             ],
             [
              0.4444444444444444,
              "#bd3786"
             ],
             [
              0.5555555555555556,
              "#d8576b"
             ],
             [
              0.6666666666666666,
              "#ed7953"
             ],
             [
              0.7777777777777778,
              "#fb9f3a"
             ],
             [
              0.8888888888888888,
              "#fdca26"
             ],
             [
              1,
              "#f0f921"
             ]
            ],
            "type": "histogram2dcontour"
           }
          ],
          "mesh3d": [
           {
            "colorbar": {
             "outlinewidth": 0,
             "ticks": ""
            },
            "type": "mesh3d"
           }
          ],
          "parcoords": [
           {
            "line": {
             "colorbar": {
              "outlinewidth": 0,
              "ticks": ""
             }
            },
            "type": "parcoords"
           }
          ],
          "pie": [
           {
            "automargin": true,
            "type": "pie"
           }
          ],
          "scatter": [
           {
            "fillpattern": {
             "fillmode": "overlay",
             "size": 10,
             "solidity": 0.2
            },
            "type": "scatter"
           }
          ],
          "scatter3d": [
           {
            "line": {
             "colorbar": {
              "outlinewidth": 0,
              "ticks": ""
             }
            },
            "marker": {
             "colorbar": {
              "outlinewidth": 0,
              "ticks": ""
             }
            },
            "type": "scatter3d"
           }
          ],
          "scattercarpet": [
           {
            "marker": {
             "colorbar": {
              "outlinewidth": 0,
              "ticks": ""
             }
            },
            "type": "scattercarpet"
           }
          ],
          "scattergeo": [
           {
            "marker": {
             "colorbar": {
              "outlinewidth": 0,
              "ticks": ""
             }
            },
            "type": "scattergeo"
           }
          ],
          "scattergl": [
           {
            "marker": {
             "colorbar": {
              "outlinewidth": 0,
              "ticks": ""
             }
            },
            "type": "scattergl"
           }
          ],
          "scattermap": [
           {
            "marker": {
             "colorbar": {
              "outlinewidth": 0,
              "ticks": ""
             }
            },
            "type": "scattermap"
           }
          ],
          "scattermapbox": [
           {
            "marker": {
             "colorbar": {
              "outlinewidth": 0,
              "ticks": ""
             }
            },
            "type": "scattermapbox"
           }
          ],
          "scatterpolar": [
           {
            "marker": {
             "colorbar": {
              "outlinewidth": 0,
              "ticks": ""
             }
            },
            "type": "scatterpolar"
           }
          ],
          "scatterpolargl": [
           {
            "marker": {
             "colorbar": {
              "outlinewidth": 0,
              "ticks": ""
             }
            },
            "type": "scatterpolargl"
           }
          ],
          "scatterternary": [
           {
            "marker": {
             "colorbar": {
              "outlinewidth": 0,
              "ticks": ""
             }
            },
            "type": "scatterternary"
           }
          ],
          "surface": [
           {
            "colorbar": {
             "outlinewidth": 0,
             "ticks": ""
            },
            "colorscale": [
             [
              0,
              "#0d0887"
             ],
             [
              0.1111111111111111,
              "#46039f"
             ],
             [
              0.2222222222222222,
              "#7201a8"
             ],
             [
              0.3333333333333333,
              "#9c179e"
             ],
             [
              0.4444444444444444,
              "#bd3786"
             ],
             [
              0.5555555555555556,
              "#d8576b"
             ],
             [
              0.6666666666666666,
              "#ed7953"
             ],
             [
              0.7777777777777778,
              "#fb9f3a"
             ],
             [
              0.8888888888888888,
              "#fdca26"
             ],
             [
              1,
              "#f0f921"
             ]
            ],
            "type": "surface"
           }
          ],
          "table": [
           {
            "cells": {
             "fill": {
              "color": "#EBF0F8"
             },
             "line": {
              "color": "white"
             }
            },
            "header": {
             "fill": {
              "color": "#C8D4E3"
             },
             "line": {
              "color": "white"
             }
            },
            "type": "table"
           }
          ]
         },
         "layout": {
          "annotationdefaults": {
           "arrowcolor": "#2a3f5f",
           "arrowhead": 0,
           "arrowwidth": 1
          },
          "autotypenumbers": "strict",
          "coloraxis": {
           "colorbar": {
            "outlinewidth": 0,
            "ticks": ""
           }
          },
          "colorscale": {
           "diverging": [
            [
             0,
             "#8e0152"
            ],
            [
             0.1,
             "#c51b7d"
            ],
            [
             0.2,
             "#de77ae"
            ],
            [
             0.3,
             "#f1b6da"
            ],
            [
             0.4,
             "#fde0ef"
            ],
            [
             0.5,
             "#f7f7f7"
            ],
            [
             0.6,
             "#e6f5d0"
            ],
            [
             0.7,
             "#b8e186"
            ],
            [
             0.8,
             "#7fbc41"
            ],
            [
             0.9,
             "#4d9221"
            ],
            [
             1,
             "#276419"
            ]
           ],
           "sequential": [
            [
             0,
             "#0d0887"
            ],
            [
             0.1111111111111111,
             "#46039f"
            ],
            [
             0.2222222222222222,
             "#7201a8"
            ],
            [
             0.3333333333333333,
             "#9c179e"
            ],
            [
             0.4444444444444444,
             "#bd3786"
            ],
            [
             0.5555555555555556,
             "#d8576b"
            ],
            [
             0.6666666666666666,
             "#ed7953"
            ],
            [
             0.7777777777777778,
             "#fb9f3a"
            ],
            [
             0.8888888888888888,
             "#fdca26"
            ],
            [
             1,
             "#f0f921"
            ]
           ],
           "sequentialminus": [
            [
             0,
             "#0d0887"
            ],
            [
             0.1111111111111111,
             "#46039f"
            ],
            [
             0.2222222222222222,
             "#7201a8"
            ],
            [
             0.3333333333333333,
             "#9c179e"
            ],
            [
             0.4444444444444444,
             "#bd3786"
            ],
            [
             0.5555555555555556,
             "#d8576b"
            ],
            [
             0.6666666666666666,
             "#ed7953"
            ],
            [
             0.7777777777777778,
             "#fb9f3a"
            ],
            [
             0.8888888888888888,
             "#fdca26"
            ],
            [
             1,
             "#f0f921"
            ]
           ]
          },
          "colorway": [
           "#636efa",
           "#EF553B",
           "#00cc96",
           "#ab63fa",
           "#FFA15A",
           "#19d3f3",
           "#FF6692",
           "#B6E880",
           "#FF97FF",
           "#FECB52"
          ],
          "font": {
           "color": "#2a3f5f"
          },
          "geo": {
           "bgcolor": "white",
           "lakecolor": "white",
           "landcolor": "#E5ECF6",
           "showlakes": true,
           "showland": true,
           "subunitcolor": "white"
          },
          "hoverlabel": {
           "align": "left"
          },
          "hovermode": "closest",
          "mapbox": {
           "style": "light"
          },
          "paper_bgcolor": "white",
          "plot_bgcolor": "#E5ECF6",
          "polar": {
           "angularaxis": {
            "gridcolor": "white",
            "linecolor": "white",
            "ticks": ""
           },
           "bgcolor": "#E5ECF6",
           "radialaxis": {
            "gridcolor": "white",
            "linecolor": "white",
            "ticks": ""
           }
          },
          "scene": {
           "xaxis": {
            "backgroundcolor": "#E5ECF6",
            "gridcolor": "white",
            "gridwidth": 2,
            "linecolor": "white",
            "showbackground": true,
            "ticks": "",
            "zerolinecolor": "white"
           },
           "yaxis": {
            "backgroundcolor": "#E5ECF6",
            "gridcolor": "white",
            "gridwidth": 2,
            "linecolor": "white",
            "showbackground": true,
            "ticks": "",
            "zerolinecolor": "white"
           },
           "zaxis": {
            "backgroundcolor": "#E5ECF6",
            "gridcolor": "white",
            "gridwidth": 2,
            "linecolor": "white",
            "showbackground": true,
            "ticks": "",
            "zerolinecolor": "white"
           }
          },
          "shapedefaults": {
           "line": {
            "color": "#2a3f5f"
           }
          },
          "ternary": {
           "aaxis": {
            "gridcolor": "white",
            "linecolor": "white",
            "ticks": ""
           },
           "baxis": {
            "gridcolor": "white",
            "linecolor": "white",
            "ticks": ""
           },
           "bgcolor": "#E5ECF6",
           "caxis": {
            "gridcolor": "white",
            "linecolor": "white",
            "ticks": ""
           }
          },
          "title": {
           "x": 0.05
          },
          "xaxis": {
           "automargin": true,
           "gridcolor": "white",
           "linecolor": "white",
           "ticks": "",
           "title": {
            "standoff": 15
           },
           "zerolinecolor": "white",
           "zerolinewidth": 2
          },
          "yaxis": {
           "automargin": true,
           "gridcolor": "white",
           "linecolor": "white",
           "ticks": "",
           "title": {
            "standoff": 15
           },
           "zerolinecolor": "white",
           "zerolinewidth": 2
          }
         }
        },
        "title": {
         "text": "Month vs Arrival Delay"
        },
        "xaxis": {
         "title": {
          "text": "Month"
         }
        },
        "yaxis": {
         "title": {
          "text": "Arrival Delay"
         }
        }
       }
      }
     },
     "metadata": {},
     "output_type": "display_data"
    }
   ],
   "source": [
    "line_data = data.groupby('Month')['ArrDelay'].mean().reset_index()\n",
    "fig=go.Figure()\n",
    "fig.add_trace(go.Scatter(x=line_data['Month'], y=line_data['ArrDelay'], mode='lines', marker=dict(color='green')))\n",
    "fig.update_layout(title='Month vs Arrival Delay', xaxis_title='Month', yaxis_title='Arrival Delay')\n",
    "fig.show()"
   ]
  },
  {
   "cell_type": "markdown",
   "metadata": {},
   "source": [
    "Bar Chart"
   ]
  },
  {
   "cell_type": "code",
   "execution_count": 21,
   "metadata": {},
   "outputs": [
    {
     "data": {
      "application/vnd.plotly.v1+json": {
       "config": {
        "plotlyServerURL": "https://plot.ly"
       },
       "data": [
        {
         "hovertemplate": "Destination State=%{x}<br>Number of Flights=%{y}<extra></extra>",
         "legendgroup": "",
         "marker": {
          "color": "#636efa",
          "pattern": {
           "shape": ""
          }
         },
         "name": "",
         "orientation": "v",
         "showlegend": false,
         "textposition": "auto",
         "type": "bar",
         "x": [
          "AK",
          "AL",
          "AZ",
          "CA",
          "CO",
          "CT",
          "FL",
          "GA",
          "HI",
          "IA",
          "ID",
          "IL",
          "IN",
          "KS",
          "KY",
          "LA",
          "MA",
          "MD",
          "MI",
          "MN",
          "MO",
          "MT",
          "NC",
          "NE",
          "NH",
          "NJ",
          "NM",
          "NV",
          "NY",
          "OH",
          "OK",
          "OR",
          "PA",
          "PR",
          "RI",
          "SC",
          "TN",
          "TX",
          "UT",
          "VA",
          "VI",
          "WA",
          "WI"
         ],
         "xaxis": "x",
         "y": {
          "bdata": "AAAAAAAAEEAAAAAAAAAIQAAAAAAAACBAAAAAAAAAUUAAAAAAAAA0QAAAAAAAABRAAAAAAAAAQEAAAAAAAAA7QAAAAAAAABRAAAAAAAAA8D8AAAAAAADwPwAAAAAAgEBAAAAAAAAAGEAAAAAAAADwPwAAAAAAACxAAAAAAAAAEEAAAAAAAAAkQAAAAAAAABxAAAAAAAAAMEAAAAAAAAAmQAAAAAAAADJAAAAAAAAACEAAAAAAAAAqQAAAAAAAAABAAAAAAAAA8D8AAAAAAAAUQAAAAAAAAPA/AAAAAAAAKkAAAAAAAAA1QAAAAAAAACJAAAAAAAAAGEAAAAAAAAAIQAAAAAAAACxAAAAAAAAAAEAAAAAAAADwPwAAAAAAAPA/AAAAAAAALEAAAAAAAABOQAAAAAAAABxAAAAAAAAAJkAAAAAAAADwPwAAAAAAACRAAAAAAAAAIEA=",
          "dtype": "f8"
         },
         "yaxis": "y"
        }
       ],
       "layout": {
        "barmode": "relative",
        "legend": {
         "tracegroupgap": 0
        },
        "template": {
         "data": {
          "bar": [
           {
            "error_x": {
             "color": "#2a3f5f"
            },
            "error_y": {
             "color": "#2a3f5f"
            },
            "marker": {
             "line": {
              "color": "#E5ECF6",
              "width": 0.5
             },
             "pattern": {
              "fillmode": "overlay",
              "size": 10,
              "solidity": 0.2
             }
            },
            "type": "bar"
           }
          ],
          "barpolar": [
           {
            "marker": {
             "line": {
              "color": "#E5ECF6",
              "width": 0.5
             },
             "pattern": {
              "fillmode": "overlay",
              "size": 10,
              "solidity": 0.2
             }
            },
            "type": "barpolar"
           }
          ],
          "carpet": [
           {
            "aaxis": {
             "endlinecolor": "#2a3f5f",
             "gridcolor": "white",
             "linecolor": "white",
             "minorgridcolor": "white",
             "startlinecolor": "#2a3f5f"
            },
            "baxis": {
             "endlinecolor": "#2a3f5f",
             "gridcolor": "white",
             "linecolor": "white",
             "minorgridcolor": "white",
             "startlinecolor": "#2a3f5f"
            },
            "type": "carpet"
           }
          ],
          "choropleth": [
           {
            "colorbar": {
             "outlinewidth": 0,
             "ticks": ""
            },
            "type": "choropleth"
           }
          ],
          "contour": [
           {
            "colorbar": {
             "outlinewidth": 0,
             "ticks": ""
            },
            "colorscale": [
             [
              0,
              "#0d0887"
             ],
             [
              0.1111111111111111,
              "#46039f"
             ],
             [
              0.2222222222222222,
              "#7201a8"
             ],
             [
              0.3333333333333333,
              "#9c179e"
             ],
             [
              0.4444444444444444,
              "#bd3786"
             ],
             [
              0.5555555555555556,
              "#d8576b"
             ],
             [
              0.6666666666666666,
              "#ed7953"
             ],
             [
              0.7777777777777778,
              "#fb9f3a"
             ],
             [
              0.8888888888888888,
              "#fdca26"
             ],
             [
              1,
              "#f0f921"
             ]
            ],
            "type": "contour"
           }
          ],
          "contourcarpet": [
           {
            "colorbar": {
             "outlinewidth": 0,
             "ticks": ""
            },
            "type": "contourcarpet"
           }
          ],
          "heatmap": [
           {
            "colorbar": {
             "outlinewidth": 0,
             "ticks": ""
            },
            "colorscale": [
             [
              0,
              "#0d0887"
             ],
             [
              0.1111111111111111,
              "#46039f"
             ],
             [
              0.2222222222222222,
              "#7201a8"
             ],
             [
              0.3333333333333333,
              "#9c179e"
             ],
             [
              0.4444444444444444,
              "#bd3786"
             ],
             [
              0.5555555555555556,
              "#d8576b"
             ],
             [
              0.6666666666666666,
              "#ed7953"
             ],
             [
              0.7777777777777778,
              "#fb9f3a"
             ],
             [
              0.8888888888888888,
              "#fdca26"
             ],
             [
              1,
              "#f0f921"
             ]
            ],
            "type": "heatmap"
           }
          ],
          "histogram": [
           {
            "marker": {
             "pattern": {
              "fillmode": "overlay",
              "size": 10,
              "solidity": 0.2
             }
            },
            "type": "histogram"
           }
          ],
          "histogram2d": [
           {
            "colorbar": {
             "outlinewidth": 0,
             "ticks": ""
            },
            "colorscale": [
             [
              0,
              "#0d0887"
             ],
             [
              0.1111111111111111,
              "#46039f"
             ],
             [
              0.2222222222222222,
              "#7201a8"
             ],
             [
              0.3333333333333333,
              "#9c179e"
             ],
             [
              0.4444444444444444,
              "#bd3786"
             ],
             [
              0.5555555555555556,
              "#d8576b"
             ],
             [
              0.6666666666666666,
              "#ed7953"
             ],
             [
              0.7777777777777778,
              "#fb9f3a"
             ],
             [
              0.8888888888888888,
              "#fdca26"
             ],
             [
              1,
              "#f0f921"
             ]
            ],
            "type": "histogram2d"
           }
          ],
          "histogram2dcontour": [
           {
            "colorbar": {
             "outlinewidth": 0,
             "ticks": ""
            },
            "colorscale": [
             [
              0,
              "#0d0887"
             ],
             [
              0.1111111111111111,
              "#46039f"
             ],
             [
              0.2222222222222222,
              "#7201a8"
             ],
             [
              0.3333333333333333,
              "#9c179e"
             ],
             [
              0.4444444444444444,
              "#bd3786"
             ],
             [
              0.5555555555555556,
              "#d8576b"
             ],
             [
              0.6666666666666666,
              "#ed7953"
             ],
             [
              0.7777777777777778,
              "#fb9f3a"
             ],
             [
              0.8888888888888888,
              "#fdca26"
             ],
             [
              1,
              "#f0f921"
             ]
            ],
            "type": "histogram2dcontour"
           }
          ],
          "mesh3d": [
           {
            "colorbar": {
             "outlinewidth": 0,
             "ticks": ""
            },
            "type": "mesh3d"
           }
          ],
          "parcoords": [
           {
            "line": {
             "colorbar": {
              "outlinewidth": 0,
              "ticks": ""
             }
            },
            "type": "parcoords"
           }
          ],
          "pie": [
           {
            "automargin": true,
            "type": "pie"
           }
          ],
          "scatter": [
           {
            "fillpattern": {
             "fillmode": "overlay",
             "size": 10,
             "solidity": 0.2
            },
            "type": "scatter"
           }
          ],
          "scatter3d": [
           {
            "line": {
             "colorbar": {
              "outlinewidth": 0,
              "ticks": ""
             }
            },
            "marker": {
             "colorbar": {
              "outlinewidth": 0,
              "ticks": ""
             }
            },
            "type": "scatter3d"
           }
          ],
          "scattercarpet": [
           {
            "marker": {
             "colorbar": {
              "outlinewidth": 0,
              "ticks": ""
             }
            },
            "type": "scattercarpet"
           }
          ],
          "scattergeo": [
           {
            "marker": {
             "colorbar": {
              "outlinewidth": 0,
              "ticks": ""
             }
            },
            "type": "scattergeo"
           }
          ],
          "scattergl": [
           {
            "marker": {
             "colorbar": {
              "outlinewidth": 0,
              "ticks": ""
             }
            },
            "type": "scattergl"
           }
          ],
          "scattermap": [
           {
            "marker": {
             "colorbar": {
              "outlinewidth": 0,
              "ticks": ""
             }
            },
            "type": "scattermap"
           }
          ],
          "scattermapbox": [
           {
            "marker": {
             "colorbar": {
              "outlinewidth": 0,
              "ticks": ""
             }
            },
            "type": "scattermapbox"
           }
          ],
          "scatterpolar": [
           {
            "marker": {
             "colorbar": {
              "outlinewidth": 0,
              "ticks": ""
             }
            },
            "type": "scatterpolar"
           }
          ],
          "scatterpolargl": [
           {
            "marker": {
             "colorbar": {
              "outlinewidth": 0,
              "ticks": ""
             }
            },
            "type": "scatterpolargl"
           }
          ],
          "scatterternary": [
           {
            "marker": {
             "colorbar": {
              "outlinewidth": 0,
              "ticks": ""
             }
            },
            "type": "scatterternary"
           }
          ],
          "surface": [
           {
            "colorbar": {
             "outlinewidth": 0,
             "ticks": ""
            },
            "colorscale": [
             [
              0,
              "#0d0887"
             ],
             [
              0.1111111111111111,
              "#46039f"
             ],
             [
              0.2222222222222222,
              "#7201a8"
             ],
             [
              0.3333333333333333,
              "#9c179e"
             ],
             [
              0.4444444444444444,
              "#bd3786"
             ],
             [
              0.5555555555555556,
              "#d8576b"
             ],
             [
              0.6666666666666666,
              "#ed7953"
             ],
             [
              0.7777777777777778,
              "#fb9f3a"
             ],
             [
              0.8888888888888888,
              "#fdca26"
             ],
             [
              1,
              "#f0f921"
             ]
            ],
            "type": "surface"
           }
          ],
          "table": [
           {
            "cells": {
             "fill": {
              "color": "#EBF0F8"
             },
             "line": {
              "color": "white"
             }
            },
            "header": {
             "fill": {
              "color": "#C8D4E3"
             },
             "line": {
              "color": "white"
             }
            },
            "type": "table"
           }
          ]
         },
         "layout": {
          "annotationdefaults": {
           "arrowcolor": "#2a3f5f",
           "arrowhead": 0,
           "arrowwidth": 1
          },
          "autotypenumbers": "strict",
          "coloraxis": {
           "colorbar": {
            "outlinewidth": 0,
            "ticks": ""
           }
          },
          "colorscale": {
           "diverging": [
            [
             0,
             "#8e0152"
            ],
            [
             0.1,
             "#c51b7d"
            ],
            [
             0.2,
             "#de77ae"
            ],
            [
             0.3,
             "#f1b6da"
            ],
            [
             0.4,
             "#fde0ef"
            ],
            [
             0.5,
             "#f7f7f7"
            ],
            [
             0.6,
             "#e6f5d0"
            ],
            [
             0.7,
             "#b8e186"
            ],
            [
             0.8,
             "#7fbc41"
            ],
            [
             0.9,
             "#4d9221"
            ],
            [
             1,
             "#276419"
            ]
           ],
           "sequential": [
            [
             0,
             "#0d0887"
            ],
            [
             0.1111111111111111,
             "#46039f"
            ],
            [
             0.2222222222222222,
             "#7201a8"
            ],
            [
             0.3333333333333333,
             "#9c179e"
            ],
            [
             0.4444444444444444,
             "#bd3786"
            ],
            [
             0.5555555555555556,
             "#d8576b"
            ],
            [
             0.6666666666666666,
             "#ed7953"
            ],
            [
             0.7777777777777778,
             "#fb9f3a"
            ],
            [
             0.8888888888888888,
             "#fdca26"
            ],
            [
             1,
             "#f0f921"
            ]
           ],
           "sequentialminus": [
            [
             0,
             "#0d0887"
            ],
            [
             0.1111111111111111,
             "#46039f"
            ],
            [
             0.2222222222222222,
             "#7201a8"
            ],
            [
             0.3333333333333333,
             "#9c179e"
            ],
            [
             0.4444444444444444,
             "#bd3786"
            ],
            [
             0.5555555555555556,
             "#d8576b"
            ],
            [
             0.6666666666666666,
             "#ed7953"
            ],
            [
             0.7777777777777778,
             "#fb9f3a"
            ],
            [
             0.8888888888888888,
             "#fdca26"
            ],
            [
             1,
             "#f0f921"
            ]
           ]
          },
          "colorway": [
           "#636efa",
           "#EF553B",
           "#00cc96",
           "#ab63fa",
           "#FFA15A",
           "#19d3f3",
           "#FF6692",
           "#B6E880",
           "#FF97FF",
           "#FECB52"
          ],
          "font": {
           "color": "#2a3f5f"
          },
          "geo": {
           "bgcolor": "white",
           "lakecolor": "white",
           "landcolor": "#E5ECF6",
           "showlakes": true,
           "showland": true,
           "subunitcolor": "white"
          },
          "hoverlabel": {
           "align": "left"
          },
          "hovermode": "closest",
          "mapbox": {
           "style": "light"
          },
          "paper_bgcolor": "white",
          "plot_bgcolor": "#E5ECF6",
          "polar": {
           "angularaxis": {
            "gridcolor": "white",
            "linecolor": "white",
            "ticks": ""
           },
           "bgcolor": "#E5ECF6",
           "radialaxis": {
            "gridcolor": "white",
            "linecolor": "white",
            "ticks": ""
           }
          },
          "scene": {
           "xaxis": {
            "backgroundcolor": "#E5ECF6",
            "gridcolor": "white",
            "gridwidth": 2,
            "linecolor": "white",
            "showbackground": true,
            "ticks": "",
            "zerolinecolor": "white"
           },
           "yaxis": {
            "backgroundcolor": "#E5ECF6",
            "gridcolor": "white",
            "gridwidth": 2,
            "linecolor": "white",
            "showbackground": true,
            "ticks": "",
            "zerolinecolor": "white"
           },
           "zaxis": {
            "backgroundcolor": "#E5ECF6",
            "gridcolor": "white",
            "gridwidth": 2,
            "linecolor": "white",
            "showbackground": true,
            "ticks": "",
            "zerolinecolor": "white"
           }
          },
          "shapedefaults": {
           "line": {
            "color": "#2a3f5f"
           }
          },
          "ternary": {
           "aaxis": {
            "gridcolor": "white",
            "linecolor": "white",
            "ticks": ""
           },
           "baxis": {
            "gridcolor": "white",
            "linecolor": "white",
            "ticks": ""
           },
           "bgcolor": "#E5ECF6",
           "caxis": {
            "gridcolor": "white",
            "linecolor": "white",
            "ticks": ""
           }
          },
          "title": {
           "x": 0.05
          },
          "xaxis": {
           "automargin": true,
           "gridcolor": "white",
           "linecolor": "white",
           "ticks": "",
           "title": {
            "standoff": 15
           },
           "zerolinecolor": "white",
           "zerolinewidth": 2
          },
          "yaxis": {
           "automargin": true,
           "gridcolor": "white",
           "linecolor": "white",
           "ticks": "",
           "title": {
            "standoff": 15
           },
           "zerolinecolor": "white",
           "zerolinewidth": 2
          }
         }
        },
        "title": {
         "text": "Destination State vs Flights"
        },
        "xaxis": {
         "anchor": "y",
         "domain": [
          0,
          1
         ],
         "title": {
          "text": "Destination State"
         }
        },
        "yaxis": {
         "anchor": "x",
         "domain": [
          0,
          1
         ],
         "title": {
          "text": "Number of Flights"
         }
        }
       }
      }
     },
     "metadata": {},
     "output_type": "display_data"
    }
   ],
   "source": [
    "bar_data=data.groupby('DestState')['Flights'].sum().reset_index()\n",
    "fig=px.bar(bar_data, x='DestState', y='Flights', title='Destination State vs Flights', labels={'DestState':'Destination State', 'Flights':'Number of Flights'})\n",
    "fig.show()"
   ]
  },
  {
   "cell_type": "markdown",
   "metadata": {},
   "source": [
    "Histogram"
   ]
  },
  {
   "cell_type": "code",
   "execution_count": 22,
   "metadata": {},
   "outputs": [
    {
     "data": {
      "application/vnd.plotly.v1+json": {
       "config": {
        "plotlyServerURL": "https://plot.ly"
       },
       "data": [
        {
         "bingroup": "x",
         "hovertemplate": "Arrival Delay=%{x}<br>count=%{y}<extra></extra>",
         "legendgroup": "",
         "marker": {
          "color": "#636efa",
          "pattern": {
           "shape": ""
          }
         },
         "name": "",
         "orientation": "v",
         "showlegend": false,
         "type": "histogram",
         "x": {
          "bdata": "AAAAAAAAQEAAAAAAAADwvwAAAAAAABTAAAAAAAAAAMAAAAAAAAAmwAAAAAAAABDAAAAAAAAAKMAAAAAAAAAkQAAAAAAAABzAAAAAAAAAEMAAAAAAAIBBQAAAAAAAAAjAAAAAAAAAFMAAAAAAAAAcQAAAAAAAwFZAAAAAAAAAAEAAAAAAAAAQQAAAAAAAACzAAAAAAAAAAAAAAAAAAAA2wAAAAAAAABTAAAAAAAAAAAAAAAAAAAAxwAAAAAAAAC7AAAAAAAAAOUAAAAAAAAA7QAAAAAAAAADAAAAAAAAACEAAAAAAAAA6QAAAAAAAACbAAAAAAAAAIsAAAAAAAAA8wAAAAAAAACzAAAAAAAAAMkAAAAAAAAAYQAAAAAAAAFNAAAAAAAAAPEAAAAAAAAAAAAAAAAAAAADAAAAAAAAACEAAAAAAAAAUwAAAAAAAACLAAAAAAAAAKEAAAAAAAAAkwAAAAAAAACrAAAAAAAAAPcAAAAAAAAAsQAAAAAAAAC7AAAAAAAAAMkAAAAAAAAAqQAAAAAAAABzAAAAAAAAACMAAAAAAAAAgwAAAAAAAAC7AAAAAAAAAEMAAAAAAAAA4wAAAAAAAACpAAAAAAAAAJkAAAAAAAAAywAAAAAAAACrAAAAAAAAAMEAAAAAAAAA3wAAAAAAAAAjAAAAAAAAAAAAAAAAAAAAoQAAAAAAAACZAAAAAAAAAIMAAAAAAAAAowAAAAAAAACTAAAAAAAAACMAAAAAAAAAUwAAAAAAAADNAAAAAAAAAFMAAAAAAAIBEQAAAAAAAAABAAAAAAAAAHMAAAAAAAIBZQAAAAAAAABTAAAAAAAAAAMAAAAAAAAAuwAAAAAAAABhAAAAAAAAAEMAAAAAAAAAmwAAAAAAAAABAAAAAAAAALsAAAAAAAAAcQAAAAAAAADVAAAAAAAAASEAAAAAAAAA7QAAAAAAAAD9AAAAAAAAAFMAAAAAAAABJQAAAAAAAACZAAAAAAAAAAAAAAAAAAAAowAAAAAAAABRAAAAAAAAAWUAAAAAAAAAcQAAAAAAAADRAAAAAAADAUkAAAAAAAAAswAAAAAAAABzAAAAAAAAAAAAAAAAAAABAQAAAAAAAACLAAAAAAAAAEEAAAAAAAAA6wAAAAAAAAC5AAAAAAAAAKMAAAAAAAAAsQAAAAAAAACTAAAAAAAAANMAAAAAAAIBTQAAAAAAAACBAAAAAAAAAFMAAAAAAAAAkQAAAAAAAAD9AAAAAAAAALMAAAAAAAAAwwAAAAAAAwFlAAAAAAAAANsAAAAAAAAAcwAAAAAAAABRAAAAAAAAACMAAAAAAAAAIwAAAAAAAAPC/AAAAAAAA8D8AAAAAAIBJQAAAAAAAAERAAAAAAAAAMUAAAAAAAAAQQAAAAAAAAABAAAAAAAAAJsAAAAAAAAAkwAAAAAAAACjAAAAAAAAAHMAAAAAAAAAwwAAAAAAAACrAAAAAAAAAKkAAAAAAAAAzwAAAAAAAAChAAAAAAAAAFEAAAAAAAAAAAAAAAAAAAAAAAAAAAAAAZ0AAAAAAAAAuQAAAAAAAACRAAAAAAAAAEEAAAAAAAADwvwAAAAAAADfAAAAAAAAAOsAAAAAAAAAiwAAAAAAAABjAAAAAAAAAKsAAAAAAAADwvwAAAAAAACZAAAAAAAAAIkAAAAAAAABDQAAAAAAAACpAAAAAAACAQUAAAAAAAAA8QAAAAAAAgEZAAAAAAAAACMAAAAAAAAA8QAAAAAAAACLAAAAAAAAAHEAAAAAAAAAiwAAAAAAAADBAAAAAAAAAJkAAAAAAAAAIQAAAAAAAAC5AAAAAAAAACMAAAAAAAAAgQAAAAAAAAAjAAAAAAAAAIMAAAAAAAAAcwAAAAAAAADNAAAAAAAAASEAAAAAAAAAswAAAAAAAABxAAAAAAAAANcAAAAAAAAAUwAAAAAAAABjAAAAAAAAALMAAAAAAAAAzQAAAAAAAADjAAAAAAAAANcAAAAAAAAA2wAAAAAAAADfAAAAAAAAAJsAAAAAAAAAiwAAAAAAAADXAAAAAAAAAMMAAAAAAAAAiwAAAAAAAACRAAAAAAAAAMMAAAAAAAAAiwAAAAAAAABTAAAAAAAAALMAAAAAAAAA+wAAAAAAAAD9AAAAAAAAA8D8AAAAAAAAQwAAAAAAAACrAAAAAAAAAEMAAAAAAAAAIwAAAAAAAABBAAAAAAACAQUAAAAAAAAAcQAAAAAAAABzAAAAAAAAAAAAAAAAAAAAAAAAAAAAAAAAAAAAAAAAAKEAAAAAAAAA3wAAAAAAAADPAAAAAAAAAAAAAAAAAAAAkQAAAAAAAABhAAAAAAAAAEMAAAAAAAAAQQAAAAAAAADHAAAAAAAAAMcAAAAAAAABOQAAAAAAAAAAAAAAAAAAAAAAAAAAAAIBJQAAAAAAAACjAAAAAAAAAAAAAAAAAAIBCQAAAAAAAAAAAAAAAAAAAU0AAAAAAAAA1QAAAAAAAACRAAAAAAAAAHEAAAAAAAAAIQAAAAAAAAAjAAAAAAAAAAAAAAAAAAAAkwAAAAAAAACJAAAAAAAAALMAAAAAAAAAUQAAAAAAAADDAAAAAAAAAAAAAAAAAAAAUwAAAAAAAACLAAAAAAAAAAAAAAAAAAAAQwAAAAAAAACrAAAAAAAAAPMAAAAAAAAAcwAAAAAAAACrAAAAAAAAA8L8AAAAAAAAyQAAAAAAAACDAAAAAAACAUUAAAAAAAAAswAAAAAAAAChAAAAAAAAAAMAAAAAAAADwPwAAAAAAAPC/AAAAAAAAFEAAAAAAAAAAAAAAAAAAAEvAAAAAAAAAAAAAAAAAAAA8QAAAAAAAADHAAAAAAAAALMAAAAAAAADwPwAAAAAAACDAAAAAAAAAMkAAAAAAAAAwwAAAAAAAACrAAAAAAAAAFEAAAAAAAAAkQAAAAAAAAEhAAAAAAAAAMEAAAAAAAAAowAAAAAAAAAAAAAAAAAAAEMAAAAAAAAAowAAAAAAAADvAAAAAAAAAFMAAAAAAAAAuwAAAAAAAADRAAAAAAAAAFMAAAAAAAAAkwAAAAAAAgEBAAAAAAAAAGEAAAAAAAAAQwAAAAAAAAFtAAAAAAAAAHEAAAAAAAAAAwAAAAAAAACBAAAAAAAAA8L8AAAAAAAAkwAAAAAAAACTAAAAAAAAAGEAAAAAAAAAQQAAAAAAAABzAAAAAAAAALEAAAAAAAAA2QAAAAAAAADFAAAAAAAAA8D8AAAAAAAA5wAAAAAAAADRAAAAAAAAACEAAAAAAAAAAAAAAAAAAAAhAAAAAAAAANEAAAAAAAAAUQAAAAAAAACZAAAAAAAAA8L8AAAAAAAAQQAAAAAAAACrAAAAAAAAANMAAAAAAAAAzwAAAAAAAACZAAAAAAAAALMAAAAAAAAAiQAAAAAAAABBAAAAAAAAAN8AAAAAAAAAcwAAAAAAAAEHAAAAAAAAACMAAAAAAAAAmwAAAAAAAAPC/AAAAAAAAMMAAAAAAAAAcwAAAAAAAACjAAAAAAAAAAAAAAAAAAAAiwAAAAAAAACDAAAAAAAAALEAAAAAAAAAAQAAAAAAAABRAAAAAAAAAOsAAAAAAAAAUwAAAAAAAACbAAAAAAAAAOEAAAAAAAAAiwAAAAAAAABjAAAAAAAAANsAAAAAAAAAmQAAAAAAAADfAAAAAAAAAEMAAAAAAAIBBQAAAAAAAABDAAAAAAAAASkAAAAAAAAAiwAAAAAAAgFBAAAAAAAAAKMAAAAAAAAAAAAAAAAAAACJAAAAAAAAAKEAAAAAAAMBbQAAAAAAAADpAAAAAAAAAMsAAAAAAAAAcQAAAAAAAADVAAAAAAACAWkAAAAAAAAAmwAAAAAAAAPC/AAAAAAAAJsAAAAAAAAAkwAAAAAAAADHAAAAAAAAAOEAAAAAAAAAoQAAAAAAAACzAAAAAAAAAKMAAAAAAAIBGwAAAAAAAACzAAAAAAAAALEAAAAAAAAAmwAAAAAAAACZAAAAAAAAAJEAAAAAAAABBQAAAAAAAADZAAAAAAAAA8D8AAAAAAMBXQAAAAAAAADPAAAAAAAAA8L8AAAAAAAAIQAAAAAAAAAAAAAAAAAAAM8AAAAAAAAAUQAAAAAAAADPAAAAAAAAAOkAAAAAAAAAowAAAAAAAAC5AAAAAAAAAMkAAAAAAAAAiQAAAAAAAAAAAAAAAAAAA8L8AAAAAAADwvwAAAAAAAPC/AAAAAAAAAAAAAAAAAAAswAAAAAAAABhAAAAAAAAAKEAAAAAAAAA1QAAAAAAAAAAAAAAAAAAAPkAAAAAAAAA2wAAAAAAAAADAAAAAAAAAKkAAAAAAAAA0QAAAAAAAgEdAAAAAAAAAJsAAAAAAAAAzwAAAAAAAABBAAAAAAAAANMAAAAAAAAAUwAAAAAAAADdAAAAAAAAAAAAAAAAAAAAIwAAAAAAAACxAAAAAAAAAT0AAAAAAAAAkwAAAAAAAAAhAAAAAAAAAJsAAAAAAAAAAwAAAAAAAACjAAAAAAAAAIMAAAAAAAAAQwAAAAAAAgE1AAAAAAAAAHEAAAAAAAAAYQAAAAAAAABBAAAAAAAAAKMAAAAAAAAAuQAAAAAAAACLAAAAAAAAAIEAAAAAAAAAgwAAAAAAAABBAAAAAAAAAMMAAAAAAAAAcQAAAAAAAADLAAAAAAAAAIEAAAAAAAAAoQAAAAAAAAAjAAAAAAAAAHEAAAAAAAAAIQAAAAAAAAAAAAAAAAAAALsAAAAAAAAAkQAAAAAAAABBAAAAAAAAAHEAAAAAAAAAiwAAAAAAAAC7AAAAAAAAAKsAAAAAAAAA/QAAAAAAAAAAAAAAAAAAAEMAAAAAAAAA1QAAAAAAAAPC/AAAAAAAAIMAAAAAAAAAoQAAAAAAAACpAAAAAAAAAHEAAAAAAAAAAQAAAAAAAACTAAAAAAAAAM0AAAAAAAAAIwAAAAAAAgEBAAAAAAAAACMAAAAAAAAAIwAAAAAAAQGpAAAAAAACASUAAAAAAAAAQQAAAAAAAACTAAAAAAAAANEAAAAAAAAAkQAAAAAAAACDAAAAAAAAAAAAAAAAAAAAsQAAAAAAAABjAAAAAAAAAPcAAAAAAAAAUQAAAAAAAAAAAAAAAAAAAHMAAAAAAAABBwAAAAAAAADNAAAAAAAAAFMAAAAAAAAAgQAAAAAAAADfAAAAAAAAANEAAAAAAAAAUQAAAAAAAAEnAAAAAAACATEAAAAAAAAAQwAAAAAAAABDAAAAAAAAAAMAAAAAAAAAowAAAAAAAADXAAAAAAAAAIEAAAAAAAAAUwAAAAAAAACzAAAAAAAAAVkAAAAAAAAAQQA==",
          "dtype": "f8"
         },
         "xaxis": "x",
         "yaxis": "y"
        }
       ],
       "layout": {
        "barmode": "relative",
        "legend": {
         "tracegroupgap": 0
        },
        "template": {
         "data": {
          "bar": [
           {
            "error_x": {
             "color": "#2a3f5f"
            },
            "error_y": {
             "color": "#2a3f5f"
            },
            "marker": {
             "line": {
              "color": "#E5ECF6",
              "width": 0.5
             },
             "pattern": {
              "fillmode": "overlay",
              "size": 10,
              "solidity": 0.2
             }
            },
            "type": "bar"
           }
          ],
          "barpolar": [
           {
            "marker": {
             "line": {
              "color": "#E5ECF6",
              "width": 0.5
             },
             "pattern": {
              "fillmode": "overlay",
              "size": 10,
              "solidity": 0.2
             }
            },
            "type": "barpolar"
           }
          ],
          "carpet": [
           {
            "aaxis": {
             "endlinecolor": "#2a3f5f",
             "gridcolor": "white",
             "linecolor": "white",
             "minorgridcolor": "white",
             "startlinecolor": "#2a3f5f"
            },
            "baxis": {
             "endlinecolor": "#2a3f5f",
             "gridcolor": "white",
             "linecolor": "white",
             "minorgridcolor": "white",
             "startlinecolor": "#2a3f5f"
            },
            "type": "carpet"
           }
          ],
          "choropleth": [
           {
            "colorbar": {
             "outlinewidth": 0,
             "ticks": ""
            },
            "type": "choropleth"
           }
          ],
          "contour": [
           {
            "colorbar": {
             "outlinewidth": 0,
             "ticks": ""
            },
            "colorscale": [
             [
              0,
              "#0d0887"
             ],
             [
              0.1111111111111111,
              "#46039f"
             ],
             [
              0.2222222222222222,
              "#7201a8"
             ],
             [
              0.3333333333333333,
              "#9c179e"
             ],
             [
              0.4444444444444444,
              "#bd3786"
             ],
             [
              0.5555555555555556,
              "#d8576b"
             ],
             [
              0.6666666666666666,
              "#ed7953"
             ],
             [
              0.7777777777777778,
              "#fb9f3a"
             ],
             [
              0.8888888888888888,
              "#fdca26"
             ],
             [
              1,
              "#f0f921"
             ]
            ],
            "type": "contour"
           }
          ],
          "contourcarpet": [
           {
            "colorbar": {
             "outlinewidth": 0,
             "ticks": ""
            },
            "type": "contourcarpet"
           }
          ],
          "heatmap": [
           {
            "colorbar": {
             "outlinewidth": 0,
             "ticks": ""
            },
            "colorscale": [
             [
              0,
              "#0d0887"
             ],
             [
              0.1111111111111111,
              "#46039f"
             ],
             [
              0.2222222222222222,
              "#7201a8"
             ],
             [
              0.3333333333333333,
              "#9c179e"
             ],
             [
              0.4444444444444444,
              "#bd3786"
             ],
             [
              0.5555555555555556,
              "#d8576b"
             ],
             [
              0.6666666666666666,
              "#ed7953"
             ],
             [
              0.7777777777777778,
              "#fb9f3a"
             ],
             [
              0.8888888888888888,
              "#fdca26"
             ],
             [
              1,
              "#f0f921"
             ]
            ],
            "type": "heatmap"
           }
          ],
          "histogram": [
           {
            "marker": {
             "pattern": {
              "fillmode": "overlay",
              "size": 10,
              "solidity": 0.2
             }
            },
            "type": "histogram"
           }
          ],
          "histogram2d": [
           {
            "colorbar": {
             "outlinewidth": 0,
             "ticks": ""
            },
            "colorscale": [
             [
              0,
              "#0d0887"
             ],
             [
              0.1111111111111111,
              "#46039f"
             ],
             [
              0.2222222222222222,
              "#7201a8"
             ],
             [
              0.3333333333333333,
              "#9c179e"
             ],
             [
              0.4444444444444444,
              "#bd3786"
             ],
             [
              0.5555555555555556,
              "#d8576b"
             ],
             [
              0.6666666666666666,
              "#ed7953"
             ],
             [
              0.7777777777777778,
              "#fb9f3a"
             ],
             [
              0.8888888888888888,
              "#fdca26"
             ],
             [
              1,
              "#f0f921"
             ]
            ],
            "type": "histogram2d"
           }
          ],
          "histogram2dcontour": [
           {
            "colorbar": {
             "outlinewidth": 0,
             "ticks": ""
            },
            "colorscale": [
             [
              0,
              "#0d0887"
             ],
             [
              0.1111111111111111,
              "#46039f"
             ],
             [
              0.2222222222222222,
              "#7201a8"
             ],
             [
              0.3333333333333333,
              "#9c179e"
             ],
             [
              0.4444444444444444,
              "#bd3786"
             ],
             [
              0.5555555555555556,
              "#d8576b"
             ],
             [
              0.6666666666666666,
              "#ed7953"
             ],
             [
              0.7777777777777778,
              "#fb9f3a"
             ],
             [
              0.8888888888888888,
              "#fdca26"
             ],
             [
              1,
              "#f0f921"
             ]
            ],
            "type": "histogram2dcontour"
           }
          ],
          "mesh3d": [
           {
            "colorbar": {
             "outlinewidth": 0,
             "ticks": ""
            },
            "type": "mesh3d"
           }
          ],
          "parcoords": [
           {
            "line": {
             "colorbar": {
              "outlinewidth": 0,
              "ticks": ""
             }
            },
            "type": "parcoords"
           }
          ],
          "pie": [
           {
            "automargin": true,
            "type": "pie"
           }
          ],
          "scatter": [
           {
            "fillpattern": {
             "fillmode": "overlay",
             "size": 10,
             "solidity": 0.2
            },
            "type": "scatter"
           }
          ],
          "scatter3d": [
           {
            "line": {
             "colorbar": {
              "outlinewidth": 0,
              "ticks": ""
             }
            },
            "marker": {
             "colorbar": {
              "outlinewidth": 0,
              "ticks": ""
             }
            },
            "type": "scatter3d"
           }
          ],
          "scattercarpet": [
           {
            "marker": {
             "colorbar": {
              "outlinewidth": 0,
              "ticks": ""
             }
            },
            "type": "scattercarpet"
           }
          ],
          "scattergeo": [
           {
            "marker": {
             "colorbar": {
              "outlinewidth": 0,
              "ticks": ""
             }
            },
            "type": "scattergeo"
           }
          ],
          "scattergl": [
           {
            "marker": {
             "colorbar": {
              "outlinewidth": 0,
              "ticks": ""
             }
            },
            "type": "scattergl"
           }
          ],
          "scattermap": [
           {
            "marker": {
             "colorbar": {
              "outlinewidth": 0,
              "ticks": ""
             }
            },
            "type": "scattermap"
           }
          ],
          "scattermapbox": [
           {
            "marker": {
             "colorbar": {
              "outlinewidth": 0,
              "ticks": ""
             }
            },
            "type": "scattermapbox"
           }
          ],
          "scatterpolar": [
           {
            "marker": {
             "colorbar": {
              "outlinewidth": 0,
              "ticks": ""
             }
            },
            "type": "scatterpolar"
           }
          ],
          "scatterpolargl": [
           {
            "marker": {
             "colorbar": {
              "outlinewidth": 0,
              "ticks": ""
             }
            },
            "type": "scatterpolargl"
           }
          ],
          "scatterternary": [
           {
            "marker": {
             "colorbar": {
              "outlinewidth": 0,
              "ticks": ""
             }
            },
            "type": "scatterternary"
           }
          ],
          "surface": [
           {
            "colorbar": {
             "outlinewidth": 0,
             "ticks": ""
            },
            "colorscale": [
             [
              0,
              "#0d0887"
             ],
             [
              0.1111111111111111,
              "#46039f"
             ],
             [
              0.2222222222222222,
              "#7201a8"
             ],
             [
              0.3333333333333333,
              "#9c179e"
             ],
             [
              0.4444444444444444,
              "#bd3786"
             ],
             [
              0.5555555555555556,
              "#d8576b"
             ],
             [
              0.6666666666666666,
              "#ed7953"
             ],
             [
              0.7777777777777778,
              "#fb9f3a"
             ],
             [
              0.8888888888888888,
              "#fdca26"
             ],
             [
              1,
              "#f0f921"
             ]
            ],
            "type": "surface"
           }
          ],
          "table": [
           {
            "cells": {
             "fill": {
              "color": "#EBF0F8"
             },
             "line": {
              "color": "white"
             }
            },
            "header": {
             "fill": {
              "color": "#C8D4E3"
             },
             "line": {
              "color": "white"
             }
            },
            "type": "table"
           }
          ]
         },
         "layout": {
          "annotationdefaults": {
           "arrowcolor": "#2a3f5f",
           "arrowhead": 0,
           "arrowwidth": 1
          },
          "autotypenumbers": "strict",
          "coloraxis": {
           "colorbar": {
            "outlinewidth": 0,
            "ticks": ""
           }
          },
          "colorscale": {
           "diverging": [
            [
             0,
             "#8e0152"
            ],
            [
             0.1,
             "#c51b7d"
            ],
            [
             0.2,
             "#de77ae"
            ],
            [
             0.3,
             "#f1b6da"
            ],
            [
             0.4,
             "#fde0ef"
            ],
            [
             0.5,
             "#f7f7f7"
            ],
            [
             0.6,
             "#e6f5d0"
            ],
            [
             0.7,
             "#b8e186"
            ],
            [
             0.8,
             "#7fbc41"
            ],
            [
             0.9,
             "#4d9221"
            ],
            [
             1,
             "#276419"
            ]
           ],
           "sequential": [
            [
             0,
             "#0d0887"
            ],
            [
             0.1111111111111111,
             "#46039f"
            ],
            [
             0.2222222222222222,
             "#7201a8"
            ],
            [
             0.3333333333333333,
             "#9c179e"
            ],
            [
             0.4444444444444444,
             "#bd3786"
            ],
            [
             0.5555555555555556,
             "#d8576b"
            ],
            [
             0.6666666666666666,
             "#ed7953"
            ],
            [
             0.7777777777777778,
             "#fb9f3a"
            ],
            [
             0.8888888888888888,
             "#fdca26"
            ],
            [
             1,
             "#f0f921"
            ]
           ],
           "sequentialminus": [
            [
             0,
             "#0d0887"
            ],
            [
             0.1111111111111111,
             "#46039f"
            ],
            [
             0.2222222222222222,
             "#7201a8"
            ],
            [
             0.3333333333333333,
             "#9c179e"
            ],
            [
             0.4444444444444444,
             "#bd3786"
            ],
            [
             0.5555555555555556,
             "#d8576b"
            ],
            [
             0.6666666666666666,
             "#ed7953"
            ],
            [
             0.7777777777777778,
             "#fb9f3a"
            ],
            [
             0.8888888888888888,
             "#fdca26"
            ],
            [
             1,
             "#f0f921"
            ]
           ]
          },
          "colorway": [
           "#636efa",
           "#EF553B",
           "#00cc96",
           "#ab63fa",
           "#FFA15A",
           "#19d3f3",
           "#FF6692",
           "#B6E880",
           "#FF97FF",
           "#FECB52"
          ],
          "font": {
           "color": "#2a3f5f"
          },
          "geo": {
           "bgcolor": "white",
           "lakecolor": "white",
           "landcolor": "#E5ECF6",
           "showlakes": true,
           "showland": true,
           "subunitcolor": "white"
          },
          "hoverlabel": {
           "align": "left"
          },
          "hovermode": "closest",
          "mapbox": {
           "style": "light"
          },
          "paper_bgcolor": "white",
          "plot_bgcolor": "#E5ECF6",
          "polar": {
           "angularaxis": {
            "gridcolor": "white",
            "linecolor": "white",
            "ticks": ""
           },
           "bgcolor": "#E5ECF6",
           "radialaxis": {
            "gridcolor": "white",
            "linecolor": "white",
            "ticks": ""
           }
          },
          "scene": {
           "xaxis": {
            "backgroundcolor": "#E5ECF6",
            "gridcolor": "white",
            "gridwidth": 2,
            "linecolor": "white",
            "showbackground": true,
            "ticks": "",
            "zerolinecolor": "white"
           },
           "yaxis": {
            "backgroundcolor": "#E5ECF6",
            "gridcolor": "white",
            "gridwidth": 2,
            "linecolor": "white",
            "showbackground": true,
            "ticks": "",
            "zerolinecolor": "white"
           },
           "zaxis": {
            "backgroundcolor": "#E5ECF6",
            "gridcolor": "white",
            "gridwidth": 2,
            "linecolor": "white",
            "showbackground": true,
            "ticks": "",
            "zerolinecolor": "white"
           }
          },
          "shapedefaults": {
           "line": {
            "color": "#2a3f5f"
           }
          },
          "ternary": {
           "aaxis": {
            "gridcolor": "white",
            "linecolor": "white",
            "ticks": ""
           },
           "baxis": {
            "gridcolor": "white",
            "linecolor": "white",
            "ticks": ""
           },
           "bgcolor": "#E5ECF6",
           "caxis": {
            "gridcolor": "white",
            "linecolor": "white",
            "ticks": ""
           }
          },
          "title": {
           "x": 0.05
          },
          "xaxis": {
           "automargin": true,
           "gridcolor": "white",
           "linecolor": "white",
           "ticks": "",
           "title": {
            "standoff": 15
           },
           "zerolinecolor": "white",
           "zerolinewidth": 2
          },
          "yaxis": {
           "automargin": true,
           "gridcolor": "white",
           "linecolor": "white",
           "ticks": "",
           "title": {
            "standoff": 15
           },
           "zerolinecolor": "white",
           "zerolinewidth": 2
          }
         }
        },
        "title": {
         "text": "Arrival Delay"
        },
        "xaxis": {
         "anchor": "y",
         "domain": [
          0,
          1
         ],
         "title": {
          "text": "Arrival Delay"
         }
        },
        "yaxis": {
         "anchor": "x",
         "domain": [
          0,
          1
         ],
         "title": {
          "text": "count"
         }
        }
       }
      }
     },
     "metadata": {},
     "output_type": "display_data"
    }
   ],
   "source": [
    "data['ArrDelay'] = data['ArrDelay'].fillna(0)\n",
    "fig=px.histogram(data, x='ArrDelay', title='Arrival Delay', labels={'ArrDelay':'Arrival Delay'})\n",
    "fig.show()"
   ]
  },
  {
   "cell_type": "markdown",
   "metadata": {},
   "source": [
    "Bubble Chart"
   ]
  },
  {
   "cell_type": "code",
   "execution_count": 23,
   "metadata": {},
   "outputs": [
    {
     "data": {
      "application/vnd.plotly.v1+json": {
       "config": {
        "plotlyServerURL": "https://plot.ly"
       },
       "data": [
        {
         "hovertemplate": "Reporting Airline=%{x}<br>Number of Flights=%{marker.size}<extra></extra>",
         "legendgroup": "",
         "marker": {
          "color": "#636efa",
          "size": {
           "bdata": "AAAAAAAAFEAAAAAAAIBMQAAAAAAAACxAAAAAAAAAJEAAAAAAAAAoQAAAAAAAgFBAAAAAAAAAEEAAAAAAAAAmQAAAAAAAABBAAAAAAAAACEAAAAAAAAAIQAAAAAAAABxAAAAAAAAA8D8AAAAAAAA7QAAAAAAAAAhAAAAAAAAAOkAAAAAAAAAgQAAAAAAAADxAAAAAAAAA8D8AAAAAAADwPwAAAAAAAPA/AAAAAAAALEAAAAAAAIBJQAAAAAAAgEVAAAAAAAAA8D8AAAAAAIBVQAAAAAAAABhAAAAAAAAAGEAAAAAAAADwPw==",
           "dtype": "f8"
          },
          "sizemode": "area",
          "sizeref": 0.215,
          "symbol": "circle"
         },
         "mode": "markers",
         "name": "",
         "orientation": "v",
         "showlegend": false,
         "type": "scatter",
         "x": [
          "9E",
          "AA",
          "AS",
          "B6",
          "CO",
          "DL",
          "EA",
          "EV",
          "F9",
          "FL",
          "HA",
          "HP",
          "KH",
          "MQ",
          "NK",
          "NW",
          "OH",
          "OO",
          "PA (1)",
          "PI",
          "PS",
          "TW",
          "UA",
          "US",
          "VX",
          "WN",
          "XE",
          "YV",
          "YX"
         ],
         "xaxis": "x",
         "y": {
          "bdata": "AAAAAAAAFEAAAAAAAIBMQAAAAAAAACxAAAAAAAAAJEAAAAAAAAAoQAAAAAAAgFBAAAAAAAAAEEAAAAAAAAAmQAAAAAAAABBAAAAAAAAACEAAAAAAAAAIQAAAAAAAABxAAAAAAAAA8D8AAAAAAAA7QAAAAAAAAAhAAAAAAAAAOkAAAAAAAAAgQAAAAAAAADxAAAAAAAAA8D8AAAAAAADwPwAAAAAAAPA/AAAAAAAALEAAAAAAAIBJQAAAAAAAgEVAAAAAAAAA8D8AAAAAAIBVQAAAAAAAABhAAAAAAAAAGEAAAAAAAADwPw==",
          "dtype": "f8"
         },
         "yaxis": "y"
        }
       ],
       "layout": {
        "legend": {
         "itemsizing": "constant",
         "tracegroupgap": 0
        },
        "template": {
         "data": {
          "bar": [
           {
            "error_x": {
             "color": "#2a3f5f"
            },
            "error_y": {
             "color": "#2a3f5f"
            },
            "marker": {
             "line": {
              "color": "#E5ECF6",
              "width": 0.5
             },
             "pattern": {
              "fillmode": "overlay",
              "size": 10,
              "solidity": 0.2
             }
            },
            "type": "bar"
           }
          ],
          "barpolar": [
           {
            "marker": {
             "line": {
              "color": "#E5ECF6",
              "width": 0.5
             },
             "pattern": {
              "fillmode": "overlay",
              "size": 10,
              "solidity": 0.2
             }
            },
            "type": "barpolar"
           }
          ],
          "carpet": [
           {
            "aaxis": {
             "endlinecolor": "#2a3f5f",
             "gridcolor": "white",
             "linecolor": "white",
             "minorgridcolor": "white",
             "startlinecolor": "#2a3f5f"
            },
            "baxis": {
             "endlinecolor": "#2a3f5f",
             "gridcolor": "white",
             "linecolor": "white",
             "minorgridcolor": "white",
             "startlinecolor": "#2a3f5f"
            },
            "type": "carpet"
           }
          ],
          "choropleth": [
           {
            "colorbar": {
             "outlinewidth": 0,
             "ticks": ""
            },
            "type": "choropleth"
           }
          ],
          "contour": [
           {
            "colorbar": {
             "outlinewidth": 0,
             "ticks": ""
            },
            "colorscale": [
             [
              0,
              "#0d0887"
             ],
             [
              0.1111111111111111,
              "#46039f"
             ],
             [
              0.2222222222222222,
              "#7201a8"
             ],
             [
              0.3333333333333333,
              "#9c179e"
             ],
             [
              0.4444444444444444,
              "#bd3786"
             ],
             [
              0.5555555555555556,
              "#d8576b"
             ],
             [
              0.6666666666666666,
              "#ed7953"
             ],
             [
              0.7777777777777778,
              "#fb9f3a"
             ],
             [
              0.8888888888888888,
              "#fdca26"
             ],
             [
              1,
              "#f0f921"
             ]
            ],
            "type": "contour"
           }
          ],
          "contourcarpet": [
           {
            "colorbar": {
             "outlinewidth": 0,
             "ticks": ""
            },
            "type": "contourcarpet"
           }
          ],
          "heatmap": [
           {
            "colorbar": {
             "outlinewidth": 0,
             "ticks": ""
            },
            "colorscale": [
             [
              0,
              "#0d0887"
             ],
             [
              0.1111111111111111,
              "#46039f"
             ],
             [
              0.2222222222222222,
              "#7201a8"
             ],
             [
              0.3333333333333333,
              "#9c179e"
             ],
             [
              0.4444444444444444,
              "#bd3786"
             ],
             [
              0.5555555555555556,
              "#d8576b"
             ],
             [
              0.6666666666666666,
              "#ed7953"
             ],
             [
              0.7777777777777778,
              "#fb9f3a"
             ],
             [
              0.8888888888888888,
              "#fdca26"
             ],
             [
              1,
              "#f0f921"
             ]
            ],
            "type": "heatmap"
           }
          ],
          "histogram": [
           {
            "marker": {
             "pattern": {
              "fillmode": "overlay",
              "size": 10,
              "solidity": 0.2
             }
            },
            "type": "histogram"
           }
          ],
          "histogram2d": [
           {
            "colorbar": {
             "outlinewidth": 0,
             "ticks": ""
            },
            "colorscale": [
             [
              0,
              "#0d0887"
             ],
             [
              0.1111111111111111,
              "#46039f"
             ],
             [
              0.2222222222222222,
              "#7201a8"
             ],
             [
              0.3333333333333333,
              "#9c179e"
             ],
             [
              0.4444444444444444,
              "#bd3786"
             ],
             [
              0.5555555555555556,
              "#d8576b"
             ],
             [
              0.6666666666666666,
              "#ed7953"
             ],
             [
              0.7777777777777778,
              "#fb9f3a"
             ],
             [
              0.8888888888888888,
              "#fdca26"
             ],
             [
              1,
              "#f0f921"
             ]
            ],
            "type": "histogram2d"
           }
          ],
          "histogram2dcontour": [
           {
            "colorbar": {
             "outlinewidth": 0,
             "ticks": ""
            },
            "colorscale": [
             [
              0,
              "#0d0887"
             ],
             [
              0.1111111111111111,
              "#46039f"
             ],
             [
              0.2222222222222222,
              "#7201a8"
             ],
             [
              0.3333333333333333,
              "#9c179e"
             ],
             [
              0.4444444444444444,
              "#bd3786"
             ],
             [
              0.5555555555555556,
              "#d8576b"
             ],
             [
              0.6666666666666666,
              "#ed7953"
             ],
             [
              0.7777777777777778,
              "#fb9f3a"
             ],
             [
              0.8888888888888888,
              "#fdca26"
             ],
             [
              1,
              "#f0f921"
             ]
            ],
            "type": "histogram2dcontour"
           }
          ],
          "mesh3d": [
           {
            "colorbar": {
             "outlinewidth": 0,
             "ticks": ""
            },
            "type": "mesh3d"
           }
          ],
          "parcoords": [
           {
            "line": {
             "colorbar": {
              "outlinewidth": 0,
              "ticks": ""
             }
            },
            "type": "parcoords"
           }
          ],
          "pie": [
           {
            "automargin": true,
            "type": "pie"
           }
          ],
          "scatter": [
           {
            "fillpattern": {
             "fillmode": "overlay",
             "size": 10,
             "solidity": 0.2
            },
            "type": "scatter"
           }
          ],
          "scatter3d": [
           {
            "line": {
             "colorbar": {
              "outlinewidth": 0,
              "ticks": ""
             }
            },
            "marker": {
             "colorbar": {
              "outlinewidth": 0,
              "ticks": ""
             }
            },
            "type": "scatter3d"
           }
          ],
          "scattercarpet": [
           {
            "marker": {
             "colorbar": {
              "outlinewidth": 0,
              "ticks": ""
             }
            },
            "type": "scattercarpet"
           }
          ],
          "scattergeo": [
           {
            "marker": {
             "colorbar": {
              "outlinewidth": 0,
              "ticks": ""
             }
            },
            "type": "scattergeo"
           }
          ],
          "scattergl": [
           {
            "marker": {
             "colorbar": {
              "outlinewidth": 0,
              "ticks": ""
             }
            },
            "type": "scattergl"
           }
          ],
          "scattermap": [
           {
            "marker": {
             "colorbar": {
              "outlinewidth": 0,
              "ticks": ""
             }
            },
            "type": "scattermap"
           }
          ],
          "scattermapbox": [
           {
            "marker": {
             "colorbar": {
              "outlinewidth": 0,
              "ticks": ""
             }
            },
            "type": "scattermapbox"
           }
          ],
          "scatterpolar": [
           {
            "marker": {
             "colorbar": {
              "outlinewidth": 0,
              "ticks": ""
             }
            },
            "type": "scatterpolar"
           }
          ],
          "scatterpolargl": [
           {
            "marker": {
             "colorbar": {
              "outlinewidth": 0,
              "ticks": ""
             }
            },
            "type": "scatterpolargl"
           }
          ],
          "scatterternary": [
           {
            "marker": {
             "colorbar": {
              "outlinewidth": 0,
              "ticks": ""
             }
            },
            "type": "scatterternary"
           }
          ],
          "surface": [
           {
            "colorbar": {
             "outlinewidth": 0,
             "ticks": ""
            },
            "colorscale": [
             [
              0,
              "#0d0887"
             ],
             [
              0.1111111111111111,
              "#46039f"
             ],
             [
              0.2222222222222222,
              "#7201a8"
             ],
             [
              0.3333333333333333,
              "#9c179e"
             ],
             [
              0.4444444444444444,
              "#bd3786"
             ],
             [
              0.5555555555555556,
              "#d8576b"
             ],
             [
              0.6666666666666666,
              "#ed7953"
             ],
             [
              0.7777777777777778,
              "#fb9f3a"
             ],
             [
              0.8888888888888888,
              "#fdca26"
             ],
             [
              1,
              "#f0f921"
             ]
            ],
            "type": "surface"
           }
          ],
          "table": [
           {
            "cells": {
             "fill": {
              "color": "#EBF0F8"
             },
             "line": {
              "color": "white"
             }
            },
            "header": {
             "fill": {
              "color": "#C8D4E3"
             },
             "line": {
              "color": "white"
             }
            },
            "type": "table"
           }
          ]
         },
         "layout": {
          "annotationdefaults": {
           "arrowcolor": "#2a3f5f",
           "arrowhead": 0,
           "arrowwidth": 1
          },
          "autotypenumbers": "strict",
          "coloraxis": {
           "colorbar": {
            "outlinewidth": 0,
            "ticks": ""
           }
          },
          "colorscale": {
           "diverging": [
            [
             0,
             "#8e0152"
            ],
            [
             0.1,
             "#c51b7d"
            ],
            [
             0.2,
             "#de77ae"
            ],
            [
             0.3,
             "#f1b6da"
            ],
            [
             0.4,
             "#fde0ef"
            ],
            [
             0.5,
             "#f7f7f7"
            ],
            [
             0.6,
             "#e6f5d0"
            ],
            [
             0.7,
             "#b8e186"
            ],
            [
             0.8,
             "#7fbc41"
            ],
            [
             0.9,
             "#4d9221"
            ],
            [
             1,
             "#276419"
            ]
           ],
           "sequential": [
            [
             0,
             "#0d0887"
            ],
            [
             0.1111111111111111,
             "#46039f"
            ],
            [
             0.2222222222222222,
             "#7201a8"
            ],
            [
             0.3333333333333333,
             "#9c179e"
            ],
            [
             0.4444444444444444,
             "#bd3786"
            ],
            [
             0.5555555555555556,
             "#d8576b"
            ],
            [
             0.6666666666666666,
             "#ed7953"
            ],
            [
             0.7777777777777778,
             "#fb9f3a"
            ],
            [
             0.8888888888888888,
             "#fdca26"
            ],
            [
             1,
             "#f0f921"
            ]
           ],
           "sequentialminus": [
            [
             0,
             "#0d0887"
            ],
            [
             0.1111111111111111,
             "#46039f"
            ],
            [
             0.2222222222222222,
             "#7201a8"
            ],
            [
             0.3333333333333333,
             "#9c179e"
            ],
            [
             0.4444444444444444,
             "#bd3786"
            ],
            [
             0.5555555555555556,
             "#d8576b"
            ],
            [
             0.6666666666666666,
             "#ed7953"
            ],
            [
             0.7777777777777778,
             "#fb9f3a"
            ],
            [
             0.8888888888888888,
             "#fdca26"
            ],
            [
             1,
             "#f0f921"
            ]
           ]
          },
          "colorway": [
           "#636efa",
           "#EF553B",
           "#00cc96",
           "#ab63fa",
           "#FFA15A",
           "#19d3f3",
           "#FF6692",
           "#B6E880",
           "#FF97FF",
           "#FECB52"
          ],
          "font": {
           "color": "#2a3f5f"
          },
          "geo": {
           "bgcolor": "white",
           "lakecolor": "white",
           "landcolor": "#E5ECF6",
           "showlakes": true,
           "showland": true,
           "subunitcolor": "white"
          },
          "hoverlabel": {
           "align": "left"
          },
          "hovermode": "closest",
          "mapbox": {
           "style": "light"
          },
          "paper_bgcolor": "white",
          "plot_bgcolor": "#E5ECF6",
          "polar": {
           "angularaxis": {
            "gridcolor": "white",
            "linecolor": "white",
            "ticks": ""
           },
           "bgcolor": "#E5ECF6",
           "radialaxis": {
            "gridcolor": "white",
            "linecolor": "white",
            "ticks": ""
           }
          },
          "scene": {
           "xaxis": {
            "backgroundcolor": "#E5ECF6",
            "gridcolor": "white",
            "gridwidth": 2,
            "linecolor": "white",
            "showbackground": true,
            "ticks": "",
            "zerolinecolor": "white"
           },
           "yaxis": {
            "backgroundcolor": "#E5ECF6",
            "gridcolor": "white",
            "gridwidth": 2,
            "linecolor": "white",
            "showbackground": true,
            "ticks": "",
            "zerolinecolor": "white"
           },
           "zaxis": {
            "backgroundcolor": "#E5ECF6",
            "gridcolor": "white",
            "gridwidth": 2,
            "linecolor": "white",
            "showbackground": true,
            "ticks": "",
            "zerolinecolor": "white"
           }
          },
          "shapedefaults": {
           "line": {
            "color": "#2a3f5f"
           }
          },
          "ternary": {
           "aaxis": {
            "gridcolor": "white",
            "linecolor": "white",
            "ticks": ""
           },
           "baxis": {
            "gridcolor": "white",
            "linecolor": "white",
            "ticks": ""
           },
           "bgcolor": "#E5ECF6",
           "caxis": {
            "gridcolor": "white",
            "linecolor": "white",
            "ticks": ""
           }
          },
          "title": {
           "x": 0.05
          },
          "xaxis": {
           "automargin": true,
           "gridcolor": "white",
           "linecolor": "white",
           "ticks": "",
           "title": {
            "standoff": 15
           },
           "zerolinecolor": "white",
           "zerolinewidth": 2
          },
          "yaxis": {
           "automargin": true,
           "gridcolor": "white",
           "linecolor": "white",
           "ticks": "",
           "title": {
            "standoff": 15
           },
           "zerolinecolor": "white",
           "zerolinewidth": 2
          }
         }
        },
        "title": {
         "text": "Reporting Airline vs Number of Flights"
        },
        "xaxis": {
         "anchor": "y",
         "domain": [
          0,
          1
         ],
         "title": {
          "text": "Reporting Airline"
         }
        },
        "yaxis": {
         "anchor": "x",
         "domain": [
          0,
          1
         ],
         "title": {
          "text": "Number of Flights"
         }
        }
       }
      }
     },
     "metadata": {},
     "output_type": "display_data"
    }
   ],
   "source": [
    "bub_data=data.groupby('Reporting_Airline')['Flights'].sum().reset_index()\n",
    "fig=px.scatter(bub_data, x='Reporting_Airline', y='Flights', size='Flights', title='Reporting Airline vs Number of Flights', labels={'Reporting_Airline':'Reporting Airline', 'Flights':'Number of Flights'})\n",
    "fig.show()"
   ]
  },
  {
   "cell_type": "markdown",
   "metadata": {},
   "source": [
    "Pie Chart"
   ]
  },
  {
   "cell_type": "code",
   "execution_count": 24,
   "metadata": {},
   "outputs": [
    {
     "data": {
      "application/vnd.plotly.v1+json": {
       "config": {
        "plotlyServerURL": "https://plot.ly"
       },
       "data": [
        {
         "domain": {
          "x": [
           0,
           1
          ],
          "y": [
           0,
           1
          ]
         },
         "hovertemplate": "Reporting Airline=%{label}<extra></extra>",
         "labels": [
          "OO",
          "DL",
          "HP",
          "UA",
          "FL",
          "NW",
          "DL",
          "WN",
          "OO",
          "WN",
          "WN",
          "UA",
          "KH",
          "DL",
          "MQ",
          "UA",
          "UA",
          "AA",
          "WN",
          "DL",
          "WN",
          "AA",
          "NW",
          "9E",
          "WN",
          "DL",
          "DL",
          "AA",
          "US",
          "CO",
          "B6",
          "MQ",
          "AA",
          "DL",
          "UA",
          "US",
          "DL",
          "MQ",
          "AA",
          "HP",
          "B6",
          "MQ",
          "WN",
          "PA (1)",
          "AA",
          "CO",
          "DL",
          "US",
          "DL",
          "US",
          "WN",
          "WN",
          "9E",
          "WN",
          "AA",
          "UA",
          "MQ",
          "OO",
          "AA",
          "CO",
          "WN",
          "OO",
          "DL",
          "MQ",
          "UA",
          "TW",
          "UA",
          "WN",
          "NW",
          "US",
          "WN",
          "WN",
          "NW",
          "UA",
          "NW",
          "DL",
          "DL",
          "US",
          "US",
          "DL",
          "US",
          "DL",
          "DL",
          "WN",
          "WN",
          "US",
          "WN",
          "AS",
          "DL",
          "DL",
          "UA",
          "AA",
          "WN",
          "AS",
          "WN",
          "WN",
          "TW",
          "UA",
          "HP",
          "UA",
          "US",
          "OO",
          "NW",
          "WN",
          "TW",
          "WN",
          "WN",
          "UA",
          "CO",
          "DL",
          "OO",
          "US",
          "YV",
          "MQ",
          "WN",
          "UA",
          "NK",
          "DL",
          "OO",
          "AA",
          "AS",
          "AA",
          "US",
          "WN",
          "DL",
          "UA",
          "WN",
          "AA",
          "WN",
          "DL",
          "AA",
          "DL",
          "MQ",
          "UA",
          "DL",
          "OO",
          "US",
          "US",
          "AS",
          "OO",
          "AA",
          "TW",
          "TW",
          "EA",
          "FL",
          "AA",
          "F9",
          "9E",
          "WN",
          "UA",
          "DL",
          "WN",
          "OO",
          "EV",
          "HA",
          "AS",
          "DL",
          "UA",
          "DL",
          "EA",
          "UA",
          "UA",
          "UA",
          "MQ",
          "DL",
          "OO",
          "AA",
          "US",
          "DL",
          "WN",
          "US",
          "WN",
          "CO",
          "WN",
          "WN",
          "UA",
          "MQ",
          "WN",
          "YV",
          "EA",
          "OH",
          "AA",
          "NW",
          "MQ",
          "OO",
          "B6",
          "DL",
          "AA",
          "YX",
          "MQ",
          "AS",
          "DL",
          "DL",
          "MQ",
          "UA",
          "OH",
          "OH",
          "WN",
          "AA",
          "WN",
          "WN",
          "US",
          "DL",
          "WN",
          "US",
          "OO",
          "NW",
          "DL",
          "DL",
          "AA",
          "DL",
          "AS",
          "WN",
          "MQ",
          "WN",
          "UA",
          "WN",
          "US",
          "UA",
          "TW",
          "XE",
          "WN",
          "DL",
          "MQ",
          "OO",
          "AA",
          "TW",
          "WN",
          "YV",
          "DL",
          "AA",
          "F9",
          "YV",
          "AS",
          "WN",
          "AA",
          "MQ",
          "OO",
          "NW",
          "EV",
          "OO",
          "WN",
          "AA",
          "UA",
          "AS",
          "WN",
          "AA",
          "WN",
          "AA",
          "AA",
          "US",
          "DL",
          "AA",
          "NW",
          "UA",
          "MQ",
          "MQ",
          "WN",
          "OH",
          "NW",
          "US",
          "AS",
          "EA",
          "B6",
          "WN",
          "UA",
          "NW",
          "WN",
          "WN",
          "WN",
          "YV",
          "CO",
          "EV",
          "US",
          "CO",
          "WN",
          "OH",
          "MQ",
          "EV",
          "WN",
          "VX",
          "WN",
          "CO",
          "NW",
          "OO",
          "HP",
          "AA",
          "DL",
          "DL",
          "AA",
          "AA",
          "CO",
          "FL",
          "CO",
          "US",
          "B6",
          "WN",
          "WN",
          "WN",
          "OO",
          "UA",
          "UA",
          "WN",
          "US",
          "EV",
          "AA",
          "AA",
          "US",
          "DL",
          "DL",
          "PI",
          "AA",
          "US",
          "DL",
          "US",
          "AS",
          "AA",
          "DL",
          "MQ",
          "AA",
          "AA",
          "TW",
          "WN",
          "AA",
          "WN",
          "DL",
          "US",
          "NW",
          "AS",
          "XE",
          "UA",
          "XE",
          "WN",
          "CO",
          "AS",
          "US",
          "NW",
          "WN",
          "XE",
          "HP",
          "NW",
          "WN",
          "WN",
          "US",
          "AA",
          "DL",
          "AA",
          "AA",
          "AA",
          "OO",
          "UA",
          "TW",
          "MQ",
          "OO",
          "WN",
          "TW",
          "US",
          "US",
          "DL",
          "UA",
          "MQ",
          "B6",
          "UA",
          "HA",
          "AA",
          "DL",
          "WN",
          "WN",
          "OH",
          "MQ",
          "B6",
          "US",
          "OO",
          "DL",
          "WN",
          "US",
          "WN",
          "AA",
          "US",
          "WN",
          "NK",
          "NW",
          "MQ",
          "AA",
          "AA",
          "NK",
          "TW",
          "EV",
          "WN",
          "UA",
          "F9",
          "WN",
          "AA",
          "US",
          "AA",
          "DL",
          "OO",
          "NW",
          "DL",
          "9E",
          "UA",
          "WN",
          "UA",
          "OO",
          "WN",
          "AA",
          "WN",
          "WN",
          "WN",
          "F9",
          "OH",
          "OO",
          "MQ",
          "DL",
          "B6",
          "US",
          "EV",
          "WN",
          "US",
          "NW",
          "NW",
          "UA",
          "CO",
          "AA",
          "DL",
          "UA",
          "NW",
          "DL",
          "DL",
          "UA",
          "US",
          "UA",
          "PS",
          "HA",
          "XE",
          "DL",
          "NW",
          "YV",
          "OO",
          "DL",
          "EV",
          "AA",
          "AA",
          "UA",
          "AA",
          "UA",
          "TW",
          "AA",
          "UA",
          "OO",
          "UA",
          "US",
          "B6",
          "OO",
          "EV",
          "UA",
          "DL",
          "B6",
          "MQ",
          "NW",
          "NW",
          "UA",
          "DL",
          "UA",
          "TW",
          "EV",
          "US",
          "WN",
          "AA",
          "XE",
          "DL",
          "DL",
          "9E",
          "EV",
          "TW",
          "WN",
          "DL",
          "WN",
          "HP",
          "UA",
          "WN",
          "AA",
          "US",
          "MQ",
          "NW",
          "NW",
          "UA",
          "DL",
          "WN",
          "OO",
          "WN",
          "US",
          "DL",
          "AS",
          "OH",
          "WN",
          "UA",
          "HP",
          "DL",
          "AA"
         ],
         "legendgroup": "",
         "name": "",
         "showlegend": true,
         "type": "pie"
        }
       ],
       "layout": {
        "legend": {
         "tracegroupgap": 0
        },
        "template": {
         "data": {
          "bar": [
           {
            "error_x": {
             "color": "#2a3f5f"
            },
            "error_y": {
             "color": "#2a3f5f"
            },
            "marker": {
             "line": {
              "color": "#E5ECF6",
              "width": 0.5
             },
             "pattern": {
              "fillmode": "overlay",
              "size": 10,
              "solidity": 0.2
             }
            },
            "type": "bar"
           }
          ],
          "barpolar": [
           {
            "marker": {
             "line": {
              "color": "#E5ECF6",
              "width": 0.5
             },
             "pattern": {
              "fillmode": "overlay",
              "size": 10,
              "solidity": 0.2
             }
            },
            "type": "barpolar"
           }
          ],
          "carpet": [
           {
            "aaxis": {
             "endlinecolor": "#2a3f5f",
             "gridcolor": "white",
             "linecolor": "white",
             "minorgridcolor": "white",
             "startlinecolor": "#2a3f5f"
            },
            "baxis": {
             "endlinecolor": "#2a3f5f",
             "gridcolor": "white",
             "linecolor": "white",
             "minorgridcolor": "white",
             "startlinecolor": "#2a3f5f"
            },
            "type": "carpet"
           }
          ],
          "choropleth": [
           {
            "colorbar": {
             "outlinewidth": 0,
             "ticks": ""
            },
            "type": "choropleth"
           }
          ],
          "contour": [
           {
            "colorbar": {
             "outlinewidth": 0,
             "ticks": ""
            },
            "colorscale": [
             [
              0,
              "#0d0887"
             ],
             [
              0.1111111111111111,
              "#46039f"
             ],
             [
              0.2222222222222222,
              "#7201a8"
             ],
             [
              0.3333333333333333,
              "#9c179e"
             ],
             [
              0.4444444444444444,
              "#bd3786"
             ],
             [
              0.5555555555555556,
              "#d8576b"
             ],
             [
              0.6666666666666666,
              "#ed7953"
             ],
             [
              0.7777777777777778,
              "#fb9f3a"
             ],
             [
              0.8888888888888888,
              "#fdca26"
             ],
             [
              1,
              "#f0f921"
             ]
            ],
            "type": "contour"
           }
          ],
          "contourcarpet": [
           {
            "colorbar": {
             "outlinewidth": 0,
             "ticks": ""
            },
            "type": "contourcarpet"
           }
          ],
          "heatmap": [
           {
            "colorbar": {
             "outlinewidth": 0,
             "ticks": ""
            },
            "colorscale": [
             [
              0,
              "#0d0887"
             ],
             [
              0.1111111111111111,
              "#46039f"
             ],
             [
              0.2222222222222222,
              "#7201a8"
             ],
             [
              0.3333333333333333,
              "#9c179e"
             ],
             [
              0.4444444444444444,
              "#bd3786"
             ],
             [
              0.5555555555555556,
              "#d8576b"
             ],
             [
              0.6666666666666666,
              "#ed7953"
             ],
             [
              0.7777777777777778,
              "#fb9f3a"
             ],
             [
              0.8888888888888888,
              "#fdca26"
             ],
             [
              1,
              "#f0f921"
             ]
            ],
            "type": "heatmap"
           }
          ],
          "histogram": [
           {
            "marker": {
             "pattern": {
              "fillmode": "overlay",
              "size": 10,
              "solidity": 0.2
             }
            },
            "type": "histogram"
           }
          ],
          "histogram2d": [
           {
            "colorbar": {
             "outlinewidth": 0,
             "ticks": ""
            },
            "colorscale": [
             [
              0,
              "#0d0887"
             ],
             [
              0.1111111111111111,
              "#46039f"
             ],
             [
              0.2222222222222222,
              "#7201a8"
             ],
             [
              0.3333333333333333,
              "#9c179e"
             ],
             [
              0.4444444444444444,
              "#bd3786"
             ],
             [
              0.5555555555555556,
              "#d8576b"
             ],
             [
              0.6666666666666666,
              "#ed7953"
             ],
             [
              0.7777777777777778,
              "#fb9f3a"
             ],
             [
              0.8888888888888888,
              "#fdca26"
             ],
             [
              1,
              "#f0f921"
             ]
            ],
            "type": "histogram2d"
           }
          ],
          "histogram2dcontour": [
           {
            "colorbar": {
             "outlinewidth": 0,
             "ticks": ""
            },
            "colorscale": [
             [
              0,
              "#0d0887"
             ],
             [
              0.1111111111111111,
              "#46039f"
             ],
             [
              0.2222222222222222,
              "#7201a8"
             ],
             [
              0.3333333333333333,
              "#9c179e"
             ],
             [
              0.4444444444444444,
              "#bd3786"
             ],
             [
              0.5555555555555556,
              "#d8576b"
             ],
             [
              0.6666666666666666,
              "#ed7953"
             ],
             [
              0.7777777777777778,
              "#fb9f3a"
             ],
             [
              0.8888888888888888,
              "#fdca26"
             ],
             [
              1,
              "#f0f921"
             ]
            ],
            "type": "histogram2dcontour"
           }
          ],
          "mesh3d": [
           {
            "colorbar": {
             "outlinewidth": 0,
             "ticks": ""
            },
            "type": "mesh3d"
           }
          ],
          "parcoords": [
           {
            "line": {
             "colorbar": {
              "outlinewidth": 0,
              "ticks": ""
             }
            },
            "type": "parcoords"
           }
          ],
          "pie": [
           {
            "automargin": true,
            "type": "pie"
           }
          ],
          "scatter": [
           {
            "fillpattern": {
             "fillmode": "overlay",
             "size": 10,
             "solidity": 0.2
            },
            "type": "scatter"
           }
          ],
          "scatter3d": [
           {
            "line": {
             "colorbar": {
              "outlinewidth": 0,
              "ticks": ""
             }
            },
            "marker": {
             "colorbar": {
              "outlinewidth": 0,
              "ticks": ""
             }
            },
            "type": "scatter3d"
           }
          ],
          "scattercarpet": [
           {
            "marker": {
             "colorbar": {
              "outlinewidth": 0,
              "ticks": ""
             }
            },
            "type": "scattercarpet"
           }
          ],
          "scattergeo": [
           {
            "marker": {
             "colorbar": {
              "outlinewidth": 0,
              "ticks": ""
             }
            },
            "type": "scattergeo"
           }
          ],
          "scattergl": [
           {
            "marker": {
             "colorbar": {
              "outlinewidth": 0,
              "ticks": ""
             }
            },
            "type": "scattergl"
           }
          ],
          "scattermap": [
           {
            "marker": {
             "colorbar": {
              "outlinewidth": 0,
              "ticks": ""
             }
            },
            "type": "scattermap"
           }
          ],
          "scattermapbox": [
           {
            "marker": {
             "colorbar": {
              "outlinewidth": 0,
              "ticks": ""
             }
            },
            "type": "scattermapbox"
           }
          ],
          "scatterpolar": [
           {
            "marker": {
             "colorbar": {
              "outlinewidth": 0,
              "ticks": ""
             }
            },
            "type": "scatterpolar"
           }
          ],
          "scatterpolargl": [
           {
            "marker": {
             "colorbar": {
              "outlinewidth": 0,
              "ticks": ""
             }
            },
            "type": "scatterpolargl"
           }
          ],
          "scatterternary": [
           {
            "marker": {
             "colorbar": {
              "outlinewidth": 0,
              "ticks": ""
             }
            },
            "type": "scatterternary"
           }
          ],
          "surface": [
           {
            "colorbar": {
             "outlinewidth": 0,
             "ticks": ""
            },
            "colorscale": [
             [
              0,
              "#0d0887"
             ],
             [
              0.1111111111111111,
              "#46039f"
             ],
             [
              0.2222222222222222,
              "#7201a8"
             ],
             [
              0.3333333333333333,
              "#9c179e"
             ],
             [
              0.4444444444444444,
              "#bd3786"
             ],
             [
              0.5555555555555556,
              "#d8576b"
             ],
             [
              0.6666666666666666,
              "#ed7953"
             ],
             [
              0.7777777777777778,
              "#fb9f3a"
             ],
             [
              0.8888888888888888,
              "#fdca26"
             ],
             [
              1,
              "#f0f921"
             ]
            ],
            "type": "surface"
           }
          ],
          "table": [
           {
            "cells": {
             "fill": {
              "color": "#EBF0F8"
             },
             "line": {
              "color": "white"
             }
            },
            "header": {
             "fill": {
              "color": "#C8D4E3"
             },
             "line": {
              "color": "white"
             }
            },
            "type": "table"
           }
          ]
         },
         "layout": {
          "annotationdefaults": {
           "arrowcolor": "#2a3f5f",
           "arrowhead": 0,
           "arrowwidth": 1
          },
          "autotypenumbers": "strict",
          "coloraxis": {
           "colorbar": {
            "outlinewidth": 0,
            "ticks": ""
           }
          },
          "colorscale": {
           "diverging": [
            [
             0,
             "#8e0152"
            ],
            [
             0.1,
             "#c51b7d"
            ],
            [
             0.2,
             "#de77ae"
            ],
            [
             0.3,
             "#f1b6da"
            ],
            [
             0.4,
             "#fde0ef"
            ],
            [
             0.5,
             "#f7f7f7"
            ],
            [
             0.6,
             "#e6f5d0"
            ],
            [
             0.7,
             "#b8e186"
            ],
            [
             0.8,
             "#7fbc41"
            ],
            [
             0.9,
             "#4d9221"
            ],
            [
             1,
             "#276419"
            ]
           ],
           "sequential": [
            [
             0,
             "#0d0887"
            ],
            [
             0.1111111111111111,
             "#46039f"
            ],
            [
             0.2222222222222222,
             "#7201a8"
            ],
            [
             0.3333333333333333,
             "#9c179e"
            ],
            [
             0.4444444444444444,
             "#bd3786"
            ],
            [
             0.5555555555555556,
             "#d8576b"
            ],
            [
             0.6666666666666666,
             "#ed7953"
            ],
            [
             0.7777777777777778,
             "#fb9f3a"
            ],
            [
             0.8888888888888888,
             "#fdca26"
            ],
            [
             1,
             "#f0f921"
            ]
           ],
           "sequentialminus": [
            [
             0,
             "#0d0887"
            ],
            [
             0.1111111111111111,
             "#46039f"
            ],
            [
             0.2222222222222222,
             "#7201a8"
            ],
            [
             0.3333333333333333,
             "#9c179e"
            ],
            [
             0.4444444444444444,
             "#bd3786"
            ],
            [
             0.5555555555555556,
             "#d8576b"
            ],
            [
             0.6666666666666666,
             "#ed7953"
            ],
            [
             0.7777777777777778,
             "#fb9f3a"
            ],
            [
             0.8888888888888888,
             "#fdca26"
            ],
            [
             1,
             "#f0f921"
            ]
           ]
          },
          "colorway": [
           "#636efa",
           "#EF553B",
           "#00cc96",
           "#ab63fa",
           "#FFA15A",
           "#19d3f3",
           "#FF6692",
           "#B6E880",
           "#FF97FF",
           "#FECB52"
          ],
          "font": {
           "color": "#2a3f5f"
          },
          "geo": {
           "bgcolor": "white",
           "lakecolor": "white",
           "landcolor": "#E5ECF6",
           "showlakes": true,
           "showland": true,
           "subunitcolor": "white"
          },
          "hoverlabel": {
           "align": "left"
          },
          "hovermode": "closest",
          "mapbox": {
           "style": "light"
          },
          "paper_bgcolor": "white",
          "plot_bgcolor": "#E5ECF6",
          "polar": {
           "angularaxis": {
            "gridcolor": "white",
            "linecolor": "white",
            "ticks": ""
           },
           "bgcolor": "#E5ECF6",
           "radialaxis": {
            "gridcolor": "white",
            "linecolor": "white",
            "ticks": ""
           }
          },
          "scene": {
           "xaxis": {
            "backgroundcolor": "#E5ECF6",
            "gridcolor": "white",
            "gridwidth": 2,
            "linecolor": "white",
            "showbackground": true,
            "ticks": "",
            "zerolinecolor": "white"
           },
           "yaxis": {
            "backgroundcolor": "#E5ECF6",
            "gridcolor": "white",
            "gridwidth": 2,
            "linecolor": "white",
            "showbackground": true,
            "ticks": "",
            "zerolinecolor": "white"
           },
           "zaxis": {
            "backgroundcolor": "#E5ECF6",
            "gridcolor": "white",
            "gridwidth": 2,
            "linecolor": "white",
            "showbackground": true,
            "ticks": "",
            "zerolinecolor": "white"
           }
          },
          "shapedefaults": {
           "line": {
            "color": "#2a3f5f"
           }
          },
          "ternary": {
           "aaxis": {
            "gridcolor": "white",
            "linecolor": "white",
            "ticks": ""
           },
           "baxis": {
            "gridcolor": "white",
            "linecolor": "white",
            "ticks": ""
           },
           "bgcolor": "#E5ECF6",
           "caxis": {
            "gridcolor": "white",
            "linecolor": "white",
            "ticks": ""
           }
          },
          "title": {
           "x": 0.05
          },
          "xaxis": {
           "automargin": true,
           "gridcolor": "white",
           "linecolor": "white",
           "ticks": "",
           "title": {
            "standoff": 15
           },
           "zerolinecolor": "white",
           "zerolinewidth": 2
          },
          "yaxis": {
           "automargin": true,
           "gridcolor": "white",
           "linecolor": "white",
           "ticks": "",
           "title": {
            "standoff": 15
           },
           "zerolinecolor": "white",
           "zerolinewidth": 2
          }
         }
        },
        "title": {
         "text": "Reporting Airline"
        }
       }
      }
     },
     "metadata": {},
     "output_type": "display_data"
    }
   ],
   "source": [
    "fig=px.pie(data, names='Reporting_Airline', title='Reporting Airline', labels={'Reporting_Airline':'Reporting Airline'})\n",
    "fig.show()"
   ]
  },
  {
   "cell_type": "markdown",
   "metadata": {},
   "source": [
    "SunBurst Charts"
   ]
  },
  {
   "cell_type": "code",
   "execution_count": 25,
   "metadata": {},
   "outputs": [
    {
     "data": {
      "application/vnd.plotly.v1+json": {
       "config": {
        "plotlyServerURL": "https://plot.ly"
       },
       "data": [
        {
         "branchvalues": "total",
         "domain": {
          "x": [
           0,
           1
          ],
          "y": [
           0,
           1
          ]
         },
         "hovertemplate": "labels=%{label}<br>Number of Flights=%{value}<br>parent=%{parent}<br>id=%{id}<extra></extra>",
         "ids": [
          "3/WI",
          "8/GA",
          "7/NE",
          "10/IL",
          "2/IN",
          "1/MN",
          "2/CA",
          "1/IL",
          "3/CA",
          "11/NV",
          "8/AZ",
          "8/CA",
          "9/HI",
          "11/GA",
          "3/IL",
          "10/VA",
          "3/OR",
          "2/NC",
          "12/FL",
          "12/CA",
          "7/IL",
          "10/NC",
          "1/TN",
          "6/TN",
          "8/OK",
          "1/MA",
          "2/KY",
          "10/OH",
          "11/NJ",
          "5/MD",
          "11/NC",
          "9/CA",
          "4/MN",
          "10/CO",
          "7/CT",
          "9/VA",
          "10/TX",
          "7/NC",
          "1/TX",
          "1/NJ",
          "7/MA",
          "5/TX",
          "6/NY",
          "4/IL",
          "2/VA",
          "2/FL",
          "10/KY",
          "12/NY",
          "4/KY",
          "2/TX",
          "11/MI",
          "11/CO",
          "11/NY",
          "7/MN",
          "5/FL",
          "11/MD",
          "4/CA",
          "7/CO",
          "5/IN",
          "4/CO",
          "5/MO",
          "3/HI",
          "12/TN",
          "5/OH",
          "3/NY",
          "7/TN",
          "5/NC",
          "1/PA",
          "1/CA",
          "3/MI",
          "7/PA",
          "10/MI",
          "3/GA",
          "4/OH",
          "2/UT",
          "4/FL",
          "12/MD",
          "8/PA",
          "6/AK",
          "7/FL",
          "12/GA",
          "8/NY",
          "2/NY",
          "8/TX",
          "8/WA",
          "7/AZ",
          "6/LA",
          "9/NE",
          "7/NV",
          "10/NJ",
          "1/MD",
          "5/AZ",
          "6/MI",
          "12/VA",
          "12/NC",
          "12/TX",
          "6/UT",
          "4/VA",
          "6/IL",
          "6/GA",
          "7/UT",
          "8/WI",
          "10/GA",
          "11/AK",
          "7/TX",
          "4/NV",
          "4/MO",
          "9/PA",
          "4/TX",
          "6/CA",
          "2/WI",
          "9/NC",
          "7/CA",
          "4/GA",
          "1/CO",
          "12/AZ",
          "8/IL",
          "5/OK",
          "5/CA",
          "9/TN",
          "10/NM",
          "1/GA",
          "8/CO",
          "8/CT",
          "3/CO",
          "4/OK",
          "9/TX",
          "11/SC",
          "10/FL",
          "4/PA",
          "5/NV",
          "11/CA",
          "5/IL",
          "6/NC",
          "12/KY",
          "9/MI",
          "12/CO",
          "7/NJ",
          "3/VA",
          "3/WA",
          "10/MN",
          "12/IL",
          "6/KY",
          "11/FL",
          "12/MA",
          "1/UT",
          "6/MT",
          "3/KY",
          "10/AK",
          "10/MA",
          "7/MO",
          "11/TX",
          "11/MO",
          "2/CO",
          "9/GA",
          "3/TX",
          "5/WA",
          "7/PR",
          "2/ID",
          "6/AL",
          "8/OR",
          "6/TX",
          "11/VA",
          "6/CT",
          "5/TN",
          "1/IA",
          "12/PA",
          "9/WA",
          "10/NY",
          "9/MN",
          "4/TN",
          "7/GA",
          "9/MA",
          "6/MD",
          "11/AZ",
          "11/LA",
          "5/NY",
          "11/MA",
          "2/MI",
          "5/PA",
          "3/CT",
          "3/NH",
          "1/WA",
          "11/WI",
          "1/NY",
          "5/UT",
          "8/VA",
          "6/OH",
          "12/AL",
          "1/LA",
          "10/CA",
          "7/MI",
          "10/WI",
          "8/FL",
          "7/WI",
          "12/MO",
          "12/WA",
          "4/WA",
          "9/IL",
          "6/CO",
          "9/FL",
          "10/PA",
          "8/NV",
          "12/NV",
          "12/MN",
          "2/NV",
          "10/OR",
          "5/GA",
          "3/RI",
          "11/OK",
          "2/PR",
          "9/MO",
          "2/GA",
          "7/KY",
          "6/WA",
          "3/MT",
          "11/TN",
          "10/NV",
          "8/MO",
          "9/OH",
          "9/NV",
          "1/NV",
          "8/MN",
          "11/IL",
          "5/WI",
          "10/KS",
          "1/AZ",
          "2/WA",
          "8/HI",
          "2/TN",
          "11/IN",
          "12/MT",
          "5/VI",
          "5/CO",
          "4/MI",
          "1/CT",
          "3/FL",
          "1/MI",
          "9/IN",
          "7/NY",
          "2/IL",
          "1/FL",
          "12/MI",
          "10/TN",
          "4/AK",
          "11/KY",
          "6/NV",
          "3/MO",
          "3",
          "8",
          "7",
          "10",
          "2",
          "1",
          "11",
          "9",
          "12",
          "6",
          "5",
          "4"
         ],
         "labels": [
          "WI",
          "GA",
          "NE",
          "IL",
          "IN",
          "MN",
          "CA",
          "IL",
          "CA",
          "NV",
          "AZ",
          "CA",
          "HI",
          "GA",
          "IL",
          "VA",
          "OR",
          "NC",
          "FL",
          "CA",
          "IL",
          "NC",
          "TN",
          "TN",
          "OK",
          "MA",
          "KY",
          "OH",
          "NJ",
          "MD",
          "NC",
          "CA",
          "MN",
          "CO",
          "CT",
          "VA",
          "TX",
          "NC",
          "TX",
          "NJ",
          "MA",
          "TX",
          "NY",
          "IL",
          "VA",
          "FL",
          "KY",
          "NY",
          "KY",
          "TX",
          "MI",
          "CO",
          "NY",
          "MN",
          "FL",
          "MD",
          "CA",
          "CO",
          "IN",
          "CO",
          "MO",
          "HI",
          "TN",
          "OH",
          "NY",
          "TN",
          "NC",
          "PA",
          "CA",
          "MI",
          "PA",
          "MI",
          "GA",
          "OH",
          "UT",
          "FL",
          "MD",
          "PA",
          "AK",
          "FL",
          "GA",
          "NY",
          "NY",
          "TX",
          "WA",
          "AZ",
          "LA",
          "NE",
          "NV",
          "NJ",
          "MD",
          "AZ",
          "MI",
          "VA",
          "NC",
          "TX",
          "UT",
          "VA",
          "IL",
          "GA",
          "UT",
          "WI",
          "GA",
          "AK",
          "TX",
          "NV",
          "MO",
          "PA",
          "TX",
          "CA",
          "WI",
          "NC",
          "CA",
          "GA",
          "CO",
          "AZ",
          "IL",
          "OK",
          "CA",
          "TN",
          "NM",
          "GA",
          "CO",
          "CT",
          "CO",
          "OK",
          "TX",
          "SC",
          "FL",
          "PA",
          "NV",
          "CA",
          "IL",
          "NC",
          "KY",
          "MI",
          "CO",
          "NJ",
          "VA",
          "WA",
          "MN",
          "IL",
          "KY",
          "FL",
          "MA",
          "UT",
          "MT",
          "KY",
          "AK",
          "MA",
          "MO",
          "TX",
          "MO",
          "CO",
          "GA",
          "TX",
          "WA",
          "PR",
          "ID",
          "AL",
          "OR",
          "TX",
          "VA",
          "CT",
          "TN",
          "IA",
          "PA",
          "WA",
          "NY",
          "MN",
          "TN",
          "GA",
          "MA",
          "MD",
          "AZ",
          "LA",
          "NY",
          "MA",
          "MI",
          "PA",
          "CT",
          "NH",
          "WA",
          "WI",
          "NY",
          "UT",
          "VA",
          "OH",
          "AL",
          "LA",
          "CA",
          "MI",
          "WI",
          "FL",
          "WI",
          "MO",
          "WA",
          "WA",
          "IL",
          "CO",
          "FL",
          "PA",
          "NV",
          "NV",
          "MN",
          "NV",
          "OR",
          "GA",
          "RI",
          "OK",
          "PR",
          "MO",
          "GA",
          "KY",
          "WA",
          "MT",
          "TN",
          "NV",
          "MO",
          "OH",
          "NV",
          "NV",
          "MN",
          "IL",
          "WI",
          "KS",
          "AZ",
          "WA",
          "HI",
          "TN",
          "IN",
          "MT",
          "VI",
          "CO",
          "MI",
          "CT",
          "FL",
          "MI",
          "IN",
          "NY",
          "IL",
          "FL",
          "MI",
          "TN",
          "AK",
          "KY",
          "NV",
          "MO",
          "3",
          "8",
          "7",
          "10",
          "2",
          "1",
          "11",
          "9",
          "12",
          "6",
          "5",
          "4"
         ],
         "name": "",
         "parents": [
          "3",
          "8",
          "7",
          "10",
          "2",
          "1",
          "2",
          "1",
          "3",
          "11",
          "8",
          "8",
          "9",
          "11",
          "3",
          "10",
          "3",
          "2",
          "12",
          "12",
          "7",
          "10",
          "1",
          "6",
          "8",
          "1",
          "2",
          "10",
          "11",
          "5",
          "11",
          "9",
          "4",
          "10",
          "7",
          "9",
          "10",
          "7",
          "1",
          "1",
          "7",
          "5",
          "6",
          "4",
          "2",
          "2",
          "10",
          "12",
          "4",
          "2",
          "11",
          "11",
          "11",
          "7",
          "5",
          "11",
          "4",
          "7",
          "5",
          "4",
          "5",
          "3",
          "12",
          "5",
          "3",
          "7",
          "5",
          "1",
          "1",
          "3",
          "7",
          "10",
          "3",
          "4",
          "2",
          "4",
          "12",
          "8",
          "6",
          "7",
          "12",
          "8",
          "2",
          "8",
          "8",
          "7",
          "6",
          "9",
          "7",
          "10",
          "1",
          "5",
          "6",
          "12",
          "12",
          "12",
          "6",
          "4",
          "6",
          "6",
          "7",
          "8",
          "10",
          "11",
          "7",
          "4",
          "4",
          "9",
          "4",
          "6",
          "2",
          "9",
          "7",
          "4",
          "1",
          "12",
          "8",
          "5",
          "5",
          "9",
          "10",
          "1",
          "8",
          "8",
          "3",
          "4",
          "9",
          "11",
          "10",
          "4",
          "5",
          "11",
          "5",
          "6",
          "12",
          "9",
          "12",
          "7",
          "3",
          "3",
          "10",
          "12",
          "6",
          "11",
          "12",
          "1",
          "6",
          "3",
          "10",
          "10",
          "7",
          "11",
          "11",
          "2",
          "9",
          "3",
          "5",
          "7",
          "2",
          "6",
          "8",
          "6",
          "11",
          "6",
          "5",
          "1",
          "12",
          "9",
          "10",
          "9",
          "4",
          "7",
          "9",
          "6",
          "11",
          "11",
          "5",
          "11",
          "2",
          "5",
          "3",
          "3",
          "1",
          "11",
          "1",
          "5",
          "8",
          "6",
          "12",
          "1",
          "10",
          "7",
          "10",
          "8",
          "7",
          "12",
          "12",
          "4",
          "9",
          "6",
          "9",
          "10",
          "8",
          "12",
          "12",
          "2",
          "10",
          "5",
          "3",
          "11",
          "2",
          "9",
          "2",
          "7",
          "6",
          "3",
          "11",
          "10",
          "8",
          "9",
          "9",
          "1",
          "8",
          "11",
          "5",
          "10",
          "1",
          "2",
          "8",
          "2",
          "11",
          "12",
          "5",
          "5",
          "4",
          "1",
          "3",
          "1",
          "9",
          "7",
          "2",
          "1",
          "12",
          "10",
          "4",
          "11",
          "6",
          "3",
          "",
          "",
          "",
          "",
          "",
          "",
          "",
          "",
          "",
          "",
          "",
          ""
         ],
         "type": "sunburst",
         "values": {
          "bdata": "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",
          "dtype": "f8"
         }
        }
       ],
       "layout": {
        "legend": {
         "tracegroupgap": 0
        },
        "template": {
         "data": {
          "bar": [
           {
            "error_x": {
             "color": "#2a3f5f"
            },
            "error_y": {
             "color": "#2a3f5f"
            },
            "marker": {
             "line": {
              "color": "#E5ECF6",
              "width": 0.5
             },
             "pattern": {
              "fillmode": "overlay",
              "size": 10,
              "solidity": 0.2
             }
            },
            "type": "bar"
           }
          ],
          "barpolar": [
           {
            "marker": {
             "line": {
              "color": "#E5ECF6",
              "width": 0.5
             },
             "pattern": {
              "fillmode": "overlay",
              "size": 10,
              "solidity": 0.2
             }
            },
            "type": "barpolar"
           }
          ],
          "carpet": [
           {
            "aaxis": {
             "endlinecolor": "#2a3f5f",
             "gridcolor": "white",
             "linecolor": "white",
             "minorgridcolor": "white",
             "startlinecolor": "#2a3f5f"
            },
            "baxis": {
             "endlinecolor": "#2a3f5f",
             "gridcolor": "white",
             "linecolor": "white",
             "minorgridcolor": "white",
             "startlinecolor": "#2a3f5f"
            },
            "type": "carpet"
           }
          ],
          "choropleth": [
           {
            "colorbar": {
             "outlinewidth": 0,
             "ticks": ""
            },
            "type": "choropleth"
           }
          ],
          "contour": [
           {
            "colorbar": {
             "outlinewidth": 0,
             "ticks": ""
            },
            "colorscale": [
             [
              0,
              "#0d0887"
             ],
             [
              0.1111111111111111,
              "#46039f"
             ],
             [
              0.2222222222222222,
              "#7201a8"
             ],
             [
              0.3333333333333333,
              "#9c179e"
             ],
             [
              0.4444444444444444,
              "#bd3786"
             ],
             [
              0.5555555555555556,
              "#d8576b"
             ],
             [
              0.6666666666666666,
              "#ed7953"
             ],
             [
              0.7777777777777778,
              "#fb9f3a"
             ],
             [
              0.8888888888888888,
              "#fdca26"
             ],
             [
              1,
              "#f0f921"
             ]
            ],
            "type": "contour"
           }
          ],
          "contourcarpet": [
           {
            "colorbar": {
             "outlinewidth": 0,
             "ticks": ""
            },
            "type": "contourcarpet"
           }
          ],
          "heatmap": [
           {
            "colorbar": {
             "outlinewidth": 0,
             "ticks": ""
            },
            "colorscale": [
             [
              0,
              "#0d0887"
             ],
             [
              0.1111111111111111,
              "#46039f"
             ],
             [
              0.2222222222222222,
              "#7201a8"
             ],
             [
              0.3333333333333333,
              "#9c179e"
             ],
             [
              0.4444444444444444,
              "#bd3786"
             ],
             [
              0.5555555555555556,
              "#d8576b"
             ],
             [
              0.6666666666666666,
              "#ed7953"
             ],
             [
              0.7777777777777778,
              "#fb9f3a"
             ],
             [
              0.8888888888888888,
              "#fdca26"
             ],
             [
              1,
              "#f0f921"
             ]
            ],
            "type": "heatmap"
           }
          ],
          "histogram": [
           {
            "marker": {
             "pattern": {
              "fillmode": "overlay",
              "size": 10,
              "solidity": 0.2
             }
            },
            "type": "histogram"
           }
          ],
          "histogram2d": [
           {
            "colorbar": {
             "outlinewidth": 0,
             "ticks": ""
            },
            "colorscale": [
             [
              0,
              "#0d0887"
             ],
             [
              0.1111111111111111,
              "#46039f"
             ],
             [
              0.2222222222222222,
              "#7201a8"
             ],
             [
              0.3333333333333333,
              "#9c179e"
             ],
             [
              0.4444444444444444,
              "#bd3786"
             ],
             [
              0.5555555555555556,
              "#d8576b"
             ],
             [
              0.6666666666666666,
              "#ed7953"
             ],
             [
              0.7777777777777778,
              "#fb9f3a"
             ],
             [
              0.8888888888888888,
              "#fdca26"
             ],
             [
              1,
              "#f0f921"
             ]
            ],
            "type": "histogram2d"
           }
          ],
          "histogram2dcontour": [
           {
            "colorbar": {
             "outlinewidth": 0,
             "ticks": ""
            },
            "colorscale": [
             [
              0,
              "#0d0887"
             ],
             [
              0.1111111111111111,
              "#46039f"
             ],
             [
              0.2222222222222222,
              "#7201a8"
             ],
             [
              0.3333333333333333,
              "#9c179e"
             ],
             [
              0.4444444444444444,
              "#bd3786"
             ],
             [
              0.5555555555555556,
              "#d8576b"
             ],
             [
              0.6666666666666666,
              "#ed7953"
             ],
             [
              0.7777777777777778,
              "#fb9f3a"
             ],
             [
              0.8888888888888888,
              "#fdca26"
             ],
             [
              1,
              "#f0f921"
             ]
            ],
            "type": "histogram2dcontour"
           }
          ],
          "mesh3d": [
           {
            "colorbar": {
             "outlinewidth": 0,
             "ticks": ""
            },
            "type": "mesh3d"
           }
          ],
          "parcoords": [
           {
            "line": {
             "colorbar": {
              "outlinewidth": 0,
              "ticks": ""
             }
            },
            "type": "parcoords"
           }
          ],
          "pie": [
           {
            "automargin": true,
            "type": "pie"
           }
          ],
          "scatter": [
           {
            "fillpattern": {
             "fillmode": "overlay",
             "size": 10,
             "solidity": 0.2
            },
            "type": "scatter"
           }
          ],
          "scatter3d": [
           {
            "line": {
             "colorbar": {
              "outlinewidth": 0,
              "ticks": ""
             }
            },
            "marker": {
             "colorbar": {
              "outlinewidth": 0,
              "ticks": ""
             }
            },
            "type": "scatter3d"
           }
          ],
          "scattercarpet": [
           {
            "marker": {
             "colorbar": {
              "outlinewidth": 0,
              "ticks": ""
             }
            },
            "type": "scattercarpet"
           }
          ],
          "scattergeo": [
           {
            "marker": {
             "colorbar": {
              "outlinewidth": 0,
              "ticks": ""
             }
            },
            "type": "scattergeo"
           }
          ],
          "scattergl": [
           {
            "marker": {
             "colorbar": {
              "outlinewidth": 0,
              "ticks": ""
             }
            },
            "type": "scattergl"
           }
          ],
          "scattermap": [
           {
            "marker": {
             "colorbar": {
              "outlinewidth": 0,
              "ticks": ""
             }
            },
            "type": "scattermap"
           }
          ],
          "scattermapbox": [
           {
            "marker": {
             "colorbar": {
              "outlinewidth": 0,
              "ticks": ""
             }
            },
            "type": "scattermapbox"
           }
          ],
          "scatterpolar": [
           {
            "marker": {
             "colorbar": {
              "outlinewidth": 0,
              "ticks": ""
             }
            },
            "type": "scatterpolar"
           }
          ],
          "scatterpolargl": [
           {
            "marker": {
             "colorbar": {
              "outlinewidth": 0,
              "ticks": ""
             }
            },
            "type": "scatterpolargl"
           }
          ],
          "scatterternary": [
           {
            "marker": {
             "colorbar": {
              "outlinewidth": 0,
              "ticks": ""
             }
            },
            "type": "scatterternary"
           }
          ],
          "surface": [
           {
            "colorbar": {
             "outlinewidth": 0,
             "ticks": ""
            },
            "colorscale": [
             [
              0,
              "#0d0887"
             ],
             [
              0.1111111111111111,
              "#46039f"
             ],
             [
              0.2222222222222222,
              "#7201a8"
             ],
             [
              0.3333333333333333,
              "#9c179e"
             ],
             [
              0.4444444444444444,
              "#bd3786"
             ],
             [
              0.5555555555555556,
              "#d8576b"
             ],
             [
              0.6666666666666666,
              "#ed7953"
             ],
             [
              0.7777777777777778,
              "#fb9f3a"
             ],
             [
              0.8888888888888888,
              "#fdca26"
             ],
             [
              1,
              "#f0f921"
             ]
            ],
            "type": "surface"
           }
          ],
          "table": [
           {
            "cells": {
             "fill": {
              "color": "#EBF0F8"
             },
             "line": {
              "color": "white"
             }
            },
            "header": {
             "fill": {
              "color": "#C8D4E3"
             },
             "line": {
              "color": "white"
             }
            },
            "type": "table"
           }
          ]
         },
         "layout": {
          "annotationdefaults": {
           "arrowcolor": "#2a3f5f",
           "arrowhead": 0,
           "arrowwidth": 1
          },
          "autotypenumbers": "strict",
          "coloraxis": {
           "colorbar": {
            "outlinewidth": 0,
            "ticks": ""
           }
          },
          "colorscale": {
           "diverging": [
            [
             0,
             "#8e0152"
            ],
            [
             0.1,
             "#c51b7d"
            ],
            [
             0.2,
             "#de77ae"
            ],
            [
             0.3,
             "#f1b6da"
            ],
            [
             0.4,
             "#fde0ef"
            ],
            [
             0.5,
             "#f7f7f7"
            ],
            [
             0.6,
             "#e6f5d0"
            ],
            [
             0.7,
             "#b8e186"
            ],
            [
             0.8,
             "#7fbc41"
            ],
            [
             0.9,
             "#4d9221"
            ],
            [
             1,
             "#276419"
            ]
           ],
           "sequential": [
            [
             0,
             "#0d0887"
            ],
            [
             0.1111111111111111,
             "#46039f"
            ],
            [
             0.2222222222222222,
             "#7201a8"
            ],
            [
             0.3333333333333333,
             "#9c179e"
            ],
            [
             0.4444444444444444,
             "#bd3786"
            ],
            [
             0.5555555555555556,
             "#d8576b"
            ],
            [
             0.6666666666666666,
             "#ed7953"
            ],
            [
             0.7777777777777778,
             "#fb9f3a"
            ],
            [
             0.8888888888888888,
             "#fdca26"
            ],
            [
             1,
             "#f0f921"
            ]
           ],
           "sequentialminus": [
            [
             0,
             "#0d0887"
            ],
            [
             0.1111111111111111,
             "#46039f"
            ],
            [
             0.2222222222222222,
             "#7201a8"
            ],
            [
             0.3333333333333333,
             "#9c179e"
            ],
            [
             0.4444444444444444,
             "#bd3786"
            ],
            [
             0.5555555555555556,
             "#d8576b"
            ],
            [
             0.6666666666666666,
             "#ed7953"
            ],
            [
             0.7777777777777778,
             "#fb9f3a"
            ],
            [
             0.8888888888888888,
             "#fdca26"
            ],
            [
             1,
             "#f0f921"
            ]
           ]
          },
          "colorway": [
           "#636efa",
           "#EF553B",
           "#00cc96",
           "#ab63fa",
           "#FFA15A",
           "#19d3f3",
           "#FF6692",
           "#B6E880",
           "#FF97FF",
           "#FECB52"
          ],
          "font": {
           "color": "#2a3f5f"
          },
          "geo": {
           "bgcolor": "white",
           "lakecolor": "white",
           "landcolor": "#E5ECF6",
           "showlakes": true,
           "showland": true,
           "subunitcolor": "white"
          },
          "hoverlabel": {
           "align": "left"
          },
          "hovermode": "closest",
          "mapbox": {
           "style": "light"
          },
          "paper_bgcolor": "white",
          "plot_bgcolor": "#E5ECF6",
          "polar": {
           "angularaxis": {
            "gridcolor": "white",
            "linecolor": "white",
            "ticks": ""
           },
           "bgcolor": "#E5ECF6",
           "radialaxis": {
            "gridcolor": "white",
            "linecolor": "white",
            "ticks": ""
           }
          },
          "scene": {
           "xaxis": {
            "backgroundcolor": "#E5ECF6",
            "gridcolor": "white",
            "gridwidth": 2,
            "linecolor": "white",
            "showbackground": true,
            "ticks": "",
            "zerolinecolor": "white"
           },
           "yaxis": {
            "backgroundcolor": "#E5ECF6",
            "gridcolor": "white",
            "gridwidth": 2,
            "linecolor": "white",
            "showbackground": true,
            "ticks": "",
            "zerolinecolor": "white"
           },
           "zaxis": {
            "backgroundcolor": "#E5ECF6",
            "gridcolor": "white",
            "gridwidth": 2,
            "linecolor": "white",
            "showbackground": true,
            "ticks": "",
            "zerolinecolor": "white"
           }
          },
          "shapedefaults": {
           "line": {
            "color": "#2a3f5f"
           }
          },
          "ternary": {
           "aaxis": {
            "gridcolor": "white",
            "linecolor": "white",
            "ticks": ""
           },
           "baxis": {
            "gridcolor": "white",
            "linecolor": "white",
            "ticks": ""
           },
           "bgcolor": "#E5ECF6",
           "caxis": {
            "gridcolor": "white",
            "linecolor": "white",
            "ticks": ""
           }
          },
          "title": {
           "x": 0.05
          },
          "xaxis": {
           "automargin": true,
           "gridcolor": "white",
           "linecolor": "white",
           "ticks": "",
           "title": {
            "standoff": 15
           },
           "zerolinecolor": "white",
           "zerolinewidth": 2
          },
          "yaxis": {
           "automargin": true,
           "gridcolor": "white",
           "linecolor": "white",
           "ticks": "",
           "title": {
            "standoff": 15
           },
           "zerolinecolor": "white",
           "zerolinewidth": 2
          }
         }
        },
        "title": {
         "text": "Month vs Destination State vs Flights"
        }
       }
      }
     },
     "metadata": {},
     "output_type": "display_data"
    }
   ],
   "source": [
    "fig=px.sunburst(data, path=['Month', 'DestState'], values='Flights', title='Month vs Destination State vs Flights', labels={'Flights':'Number of Flights'})\n",
    "fig.show()"
   ]
  }
 ],
 "metadata": {
  "kernelspec": {
   "display_name": "Python 3",
   "language": "python",
   "name": "python3"
  },
  "language_info": {
   "codemirror_mode": {
    "name": "ipython",
    "version": 3
   },
   "file_extension": ".py",
   "mimetype": "text/x-python",
   "name": "python",
   "nbconvert_exporter": "python",
   "pygments_lexer": "ipython3",
   "version": "3.10.1"
  }
 },
 "nbformat": 4,
 "nbformat_minor": 2
}
